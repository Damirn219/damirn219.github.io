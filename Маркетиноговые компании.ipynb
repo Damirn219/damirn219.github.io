{
 "cells": [
  {
   "cell_type": "code",
   "execution_count": 68,
   "id": "17d1e6ef-2a23-4ddb-901d-d02887b25206",
   "metadata": {
    "collapsed": true,
    "jupyter": {
     "outputs_hidden": true
    },
    "tags": []
   },
   "outputs": [
    {
     "name": "stdout",
     "output_type": "stream",
     "text": [
      "Collecting catboost\n",
      "  Downloading catboost-1.2.7-cp311-cp311-win_amd64.whl.metadata (1.2 kB)\n",
      "Collecting graphviz (from catboost)\n",
      "  Downloading graphviz-0.20.3-py3-none-any.whl.metadata (12 kB)\n",
      "Requirement already satisfied: matplotlib in c:\\users\\1\\anaconda3\\lib\\site-packages (from catboost) (3.9.2)\n",
      "Requirement already satisfied: numpy<2.0,>=1.16.0 in c:\\users\\1\\anaconda3\\lib\\site-packages (from catboost) (1.26.4)\n",
      "Requirement already satisfied: pandas>=0.24 in c:\\users\\1\\anaconda3\\lib\\site-packages (from catboost) (2.1.4)\n",
      "Requirement already satisfied: scipy in c:\\users\\1\\anaconda3\\lib\\site-packages (from catboost) (1.11.4)\n",
      "Requirement already satisfied: plotly in c:\\users\\1\\anaconda3\\lib\\site-packages (from catboost) (5.9.0)\n",
      "Requirement already satisfied: six in c:\\users\\1\\anaconda3\\lib\\site-packages (from catboost) (1.16.0)\n",
      "Requirement already satisfied: python-dateutil>=2.8.2 in c:\\users\\1\\anaconda3\\lib\\site-packages (from pandas>=0.24->catboost) (2.8.2)\n",
      "Requirement already satisfied: pytz>=2020.1 in c:\\users\\1\\anaconda3\\lib\\site-packages (from pandas>=0.24->catboost) (2023.3.post1)\n",
      "Requirement already satisfied: tzdata>=2022.1 in c:\\users\\1\\anaconda3\\lib\\site-packages (from pandas>=0.24->catboost) (2023.3)\n",
      "Requirement already satisfied: contourpy>=1.0.1 in c:\\users\\1\\anaconda3\\lib\\site-packages (from matplotlib->catboost) (1.2.0)\n",
      "Requirement already satisfied: cycler>=0.10 in c:\\users\\1\\anaconda3\\lib\\site-packages (from matplotlib->catboost) (0.11.0)\n",
      "Requirement already satisfied: fonttools>=4.22.0 in c:\\users\\1\\anaconda3\\lib\\site-packages (from matplotlib->catboost) (4.25.0)\n",
      "Requirement already satisfied: kiwisolver>=1.3.1 in c:\\users\\1\\anaconda3\\lib\\site-packages (from matplotlib->catboost) (1.4.4)\n",
      "Requirement already satisfied: packaging>=20.0 in c:\\users\\1\\anaconda3\\lib\\site-packages (from matplotlib->catboost) (23.1)\n",
      "Requirement already satisfied: pillow>=8 in c:\\users\\1\\anaconda3\\lib\\site-packages (from matplotlib->catboost) (10.2.0)\n",
      "Requirement already satisfied: pyparsing>=2.3.1 in c:\\users\\1\\anaconda3\\lib\\site-packages (from matplotlib->catboost) (3.0.9)\n",
      "Requirement already satisfied: tenacity>=6.2.0 in c:\\users\\1\\anaconda3\\lib\\site-packages (from plotly->catboost) (8.2.2)\n",
      "Downloading catboost-1.2.7-cp311-cp311-win_amd64.whl (101.7 MB)\n",
      "   ---------------------------------------- 0.0/101.7 MB ? eta -:--:--\n",
      "   ---------------------------------------- 0.0/101.7 MB ? eta -:--:--\n",
      "   ---------------------------------------- 0.1/101.7 MB 812.7 kB/s eta 0:02:06\n",
      "   ---------------------------------------- 0.2/101.7 MB 1.5 MB/s eta 0:01:09\n",
      "   ---------------------------------------- 0.4/101.7 MB 2.2 MB/s eta 0:00:47\n",
      "   ---------------------------------------- 0.6/101.7 MB 3.0 MB/s eta 0:00:34\n",
      "   ---------------------------------------- 0.9/101.7 MB 3.4 MB/s eta 0:00:30\n",
      "    --------------------------------------- 1.6/101.7 MB 5.0 MB/s eta 0:00:21\n",
      "   - -------------------------------------- 3.0/101.7 MB 8.7 MB/s eta 0:00:12\n",
      "   -- ------------------------------------- 5.8/101.7 MB 14.2 MB/s eta 0:00:07\n",
      "   --- ------------------------------------ 9.8/101.7 MB 21.7 MB/s eta 0:00:05\n",
      "   ----- ---------------------------------- 14.0/101.7 MB 93.0 MB/s eta 0:00:01\n",
      "   ------ --------------------------------- 15.3/101.7 MB 65.6 MB/s eta 0:00:02\n",
      "   ------- -------------------------------- 19.1/101.7 MB 73.1 MB/s eta 0:00:02\n",
      "   ------- -------------------------------- 19.1/101.7 MB 73.1 MB/s eta 0:00:02\n",
      "   ------- -------------------------------- 20.0/101.7 MB 43.5 MB/s eta 0:00:02\n",
      "   --------- ------------------------------ 24.1/101.7 MB 40.9 MB/s eta 0:00:02\n",
      "   --------- ------------------------------ 24.2/101.7 MB 40.9 MB/s eta 0:00:02\n",
      "   ---------- ----------------------------- 26.5/101.7 MB 36.4 MB/s eta 0:00:03\n",
      "   ----------- ---------------------------- 28.1/101.7 MB 32.8 MB/s eta 0:00:03\n",
      "   ----------- ---------------------------- 29.2/101.7 MB 29.7 MB/s eta 0:00:03\n",
      "   ----------- ---------------------------- 30.3/101.7 MB 38.6 MB/s eta 0:00:02\n",
      "   ------------ --------------------------- 31.4/101.7 MB 31.2 MB/s eta 0:00:03\n",
      "   ------------ --------------------------- 31.7/101.7 MB 31.1 MB/s eta 0:00:03\n",
      "   ------------- -------------------------- 33.3/101.7 MB 27.3 MB/s eta 0:00:03\n",
      "   ------------- -------------------------- 34.4/101.7 MB 28.5 MB/s eta 0:00:03\n",
      "   ------------- -------------------------- 35.4/101.7 MB 26.2 MB/s eta 0:00:03\n",
      "   -------------- ------------------------- 36.4/101.7 MB 23.4 MB/s eta 0:00:03\n",
      "   -------------- ------------------------- 37.5/101.7 MB 22.5 MB/s eta 0:00:03\n",
      "   --------------- ------------------------ 38.5/101.7 MB 22.6 MB/s eta 0:00:03\n",
      "   --------------- ------------------------ 39.6/101.7 MB 22.6 MB/s eta 0:00:03\n",
      "   --------------- ------------------------ 40.6/101.7 MB 22.6 MB/s eta 0:00:03\n",
      "   ---------------- ----------------------- 41.2/101.7 MB 21.8 MB/s eta 0:00:03\n",
      "   ---------------- ----------------------- 42.0/101.7 MB 24.2 MB/s eta 0:00:03\n",
      "   ---------------- ----------------------- 42.8/101.7 MB 21.8 MB/s eta 0:00:03\n",
      "   ---------------- ----------------------- 43.1/101.7 MB 19.8 MB/s eta 0:00:03\n",
      "   ----------------- ---------------------- 43.5/101.7 MB 18.2 MB/s eta 0:00:04\n",
      "   ----------------- ---------------------- 43.8/101.7 MB 17.3 MB/s eta 0:00:04\n",
      "   ----------------- ---------------------- 44.2/101.7 MB 16.4 MB/s eta 0:00:04\n",
      "   ----------------- ---------------------- 44.5/101.7 MB 15.6 MB/s eta 0:00:04\n",
      "   ----------------- ---------------------- 44.8/101.7 MB 14.9 MB/s eta 0:00:04\n",
      "   ----------------- ---------------------- 45.1/101.7 MB 14.2 MB/s eta 0:00:04\n",
      "   ----------------- ---------------------- 45.4/101.7 MB 13.4 MB/s eta 0:00:05\n",
      "   ----------------- ---------------------- 45.7/101.7 MB 13.1 MB/s eta 0:00:05\n",
      "   ------------------ --------------------- 46.0/101.7 MB 12.3 MB/s eta 0:00:05\n",
      "   ------------------ --------------------- 46.3/101.7 MB 11.9 MB/s eta 0:00:05\n",
      "   ------------------ --------------------- 46.6/101.7 MB 11.5 MB/s eta 0:00:05\n",
      "   ------------------ --------------------- 46.9/101.7 MB 11.1 MB/s eta 0:00:05\n",
      "   ------------------ --------------------- 47.2/101.7 MB 10.6 MB/s eta 0:00:06\n",
      "   ------------------ --------------------- 47.5/101.7 MB 10.4 MB/s eta 0:00:06\n",
      "   ------------------ --------------------- 47.8/101.7 MB 10.1 MB/s eta 0:00:06\n",
      "   ------------------ --------------------- 48.1/101.7 MB 9.6 MB/s eta 0:00:06\n",
      "   ------------------- -------------------- 48.4/101.7 MB 9.2 MB/s eta 0:00:06\n",
      "   ------------------- -------------------- 48.8/101.7 MB 9.2 MB/s eta 0:00:06\n",
      "   ------------------- -------------------- 49.1/101.7 MB 8.8 MB/s eta 0:00:06\n",
      "   ------------------- -------------------- 49.4/101.7 MB 8.6 MB/s eta 0:00:07\n",
      "   ------------------- -------------------- 49.7/101.7 MB 8.4 MB/s eta 0:00:07\n",
      "   ------------------- -------------------- 50.0/101.7 MB 8.2 MB/s eta 0:00:07\n",
      "   ------------------- -------------------- 50.3/101.7 MB 8.0 MB/s eta 0:00:07\n",
      "   ------------------- -------------------- 50.6/101.7 MB 7.8 MB/s eta 0:00:07\n",
      "   -------------------- ------------------- 51.0/101.7 MB 7.7 MB/s eta 0:00:07\n",
      "   -------------------- ------------------- 51.3/101.7 MB 7.6 MB/s eta 0:00:07\n",
      "   -------------------- ------------------- 51.6/101.7 MB 7.4 MB/s eta 0:00:07\n",
      "   -------------------- ------------------- 51.9/101.7 MB 7.4 MB/s eta 0:00:07\n",
      "   -------------------- ------------------- 52.2/101.7 MB 7.1 MB/s eta 0:00:07\n",
      "   -------------------- ------------------- 52.6/101.7 MB 7.1 MB/s eta 0:00:07\n",
      "   -------------------- ------------------- 52.9/101.7 MB 6.9 MB/s eta 0:00:08\n",
      "   -------------------- ------------------- 53.2/101.7 MB 6.9 MB/s eta 0:00:08\n",
      "   --------------------- ------------------ 53.5/101.7 MB 6.8 MB/s eta 0:00:08\n",
      "   --------------------- ------------------ 53.9/101.7 MB 6.9 MB/s eta 0:00:07\n",
      "   --------------------- ------------------ 54.2/101.7 MB 6.7 MB/s eta 0:00:08\n",
      "   --------------------- ------------------ 54.6/101.7 MB 6.8 MB/s eta 0:00:07\n",
      "   --------------------- ------------------ 54.9/101.7 MB 6.8 MB/s eta 0:00:07\n",
      "   --------------------- ------------------ 55.2/101.7 MB 6.8 MB/s eta 0:00:07\n",
      "   --------------------- ------------------ 55.6/101.7 MB 6.9 MB/s eta 0:00:07\n",
      "   --------------------- ------------------ 55.9/101.7 MB 6.9 MB/s eta 0:00:07\n",
      "   ---------------------- ----------------- 56.2/101.7 MB 6.9 MB/s eta 0:00:07\n",
      "   ---------------------- ----------------- 56.6/101.7 MB 7.0 MB/s eta 0:00:07\n",
      "   ---------------------- ----------------- 56.9/101.7 MB 7.0 MB/s eta 0:00:07\n",
      "   ---------------------- ----------------- 57.2/101.7 MB 7.0 MB/s eta 0:00:07\n",
      "   ---------------------- ----------------- 57.5/101.7 MB 7.0 MB/s eta 0:00:07\n",
      "   ---------------------- ----------------- 57.9/101.7 MB 7.0 MB/s eta 0:00:07\n",
      "   ---------------------- ----------------- 58.2/101.7 MB 7.0 MB/s eta 0:00:07\n",
      "   ----------------------- ---------------- 58.6/101.7 MB 7.1 MB/s eta 0:00:07\n",
      "   ----------------------- ---------------- 58.9/101.7 MB 7.1 MB/s eta 0:00:07\n",
      "   ----------------------- ---------------- 59.3/101.7 MB 7.2 MB/s eta 0:00:06\n",
      "   ----------------------- ---------------- 59.6/101.7 MB 7.1 MB/s eta 0:00:06\n",
      "   ----------------------- ---------------- 60.0/101.7 MB 7.1 MB/s eta 0:00:06\n",
      "   ----------------------- ---------------- 60.3/101.7 MB 7.2 MB/s eta 0:00:06\n",
      "   ----------------------- ---------------- 60.6/101.7 MB 7.2 MB/s eta 0:00:06\n",
      "   ----------------------- ---------------- 61.0/101.7 MB 7.3 MB/s eta 0:00:06\n",
      "   ------------------------ --------------- 61.3/101.7 MB 7.3 MB/s eta 0:00:06\n",
      "   ------------------------ --------------- 61.6/101.7 MB 7.3 MB/s eta 0:00:06\n",
      "   ------------------------ --------------- 62.0/101.7 MB 7.3 MB/s eta 0:00:06\n",
      "   ------------------------ --------------- 62.3/101.7 MB 7.3 MB/s eta 0:00:06\n",
      "   ------------------------ --------------- 62.7/101.7 MB 7.3 MB/s eta 0:00:06\n",
      "   ------------------------ --------------- 63.0/101.7 MB 7.3 MB/s eta 0:00:06\n",
      "   ------------------------ --------------- 63.3/101.7 MB 7.3 MB/s eta 0:00:06\n",
      "   ------------------------- -------------- 63.7/101.7 MB 7.4 MB/s eta 0:00:06\n",
      "   ------------------------- -------------- 64.1/101.7 MB 7.4 MB/s eta 0:00:06\n",
      "   ------------------------- -------------- 64.4/101.7 MB 7.4 MB/s eta 0:00:06\n",
      "   ------------------------- -------------- 64.8/101.7 MB 7.4 MB/s eta 0:00:06\n",
      "   ------------------------- -------------- 65.1/101.7 MB 7.4 MB/s eta 0:00:05\n",
      "   ------------------------- -------------- 65.4/101.7 MB 7.4 MB/s eta 0:00:05\n",
      "   ------------------------- -------------- 65.8/101.7 MB 7.4 MB/s eta 0:00:05\n",
      "   ------------------------- -------------- 66.1/101.7 MB 7.4 MB/s eta 0:00:05\n",
      "   -------------------------- ------------- 66.5/101.7 MB 7.4 MB/s eta 0:00:05\n",
      "   -------------------------- ------------- 66.8/101.7 MB 7.4 MB/s eta 0:00:05\n",
      "   -------------------------- ------------- 67.2/101.7 MB 7.4 MB/s eta 0:00:05\n",
      "   -------------------------- ------------- 67.6/101.7 MB 7.4 MB/s eta 0:00:05\n",
      "   -------------------------- ------------- 67.9/101.7 MB 7.4 MB/s eta 0:00:05\n",
      "   -------------------------- ------------- 68.2/101.7 MB 7.4 MB/s eta 0:00:05\n",
      "   -------------------------- ------------- 68.6/101.7 MB 7.4 MB/s eta 0:00:05\n",
      "   --------------------------- ------------ 69.0/101.7 MB 7.4 MB/s eta 0:00:05\n",
      "   --------------------------- ------------ 69.3/101.7 MB 7.5 MB/s eta 0:00:05\n",
      "   --------------------------- ------------ 69.7/101.7 MB 7.4 MB/s eta 0:00:05\n",
      "   --------------------------- ------------ 70.0/101.7 MB 7.5 MB/s eta 0:00:05\n",
      "   --------------------------- ------------ 70.4/101.7 MB 7.5 MB/s eta 0:00:05\n",
      "   --------------------------- ------------ 70.7/101.7 MB 7.5 MB/s eta 0:00:05\n",
      "   --------------------------- ------------ 71.1/101.7 MB 7.5 MB/s eta 0:00:05\n",
      "   ---------------------------- ----------- 71.4/101.7 MB 7.5 MB/s eta 0:00:05\n",
      "   ---------------------------- ----------- 71.7/101.7 MB 7.5 MB/s eta 0:00:04\n",
      "   ---------------------------- ----------- 72.1/101.7 MB 7.6 MB/s eta 0:00:04\n",
      "   ---------------------------- ----------- 72.4/101.7 MB 7.5 MB/s eta 0:00:04\n",
      "   ---------------------------- ----------- 72.8/101.7 MB 7.5 MB/s eta 0:00:04\n",
      "   ---------------------------- ----------- 73.1/101.7 MB 7.5 MB/s eta 0:00:04\n",
      "   ---------------------------- ----------- 73.5/101.7 MB 7.5 MB/s eta 0:00:04\n",
      "   ----------------------------- ---------- 73.8/101.7 MB 7.5 MB/s eta 0:00:04\n",
      "   ----------------------------- ---------- 74.2/101.7 MB 7.5 MB/s eta 0:00:04\n",
      "   ----------------------------- ---------- 74.6/101.7 MB 7.6 MB/s eta 0:00:04\n",
      "   ----------------------------- ---------- 75.0/101.7 MB 7.6 MB/s eta 0:00:04\n",
      "   ----------------------------- ---------- 75.3/101.7 MB 7.6 MB/s eta 0:00:04\n",
      "   ----------------------------- ---------- 75.7/101.7 MB 7.6 MB/s eta 0:00:04\n",
      "   ----------------------------- ---------- 76.0/101.7 MB 7.6 MB/s eta 0:00:04\n",
      "   ------------------------------ --------- 76.3/101.7 MB 7.6 MB/s eta 0:00:04\n",
      "   ------------------------------ --------- 76.7/101.7 MB 7.5 MB/s eta 0:00:04\n",
      "   ------------------------------ --------- 77.0/101.7 MB 7.5 MB/s eta 0:00:04\n",
      "   ------------------------------ --------- 77.4/101.7 MB 7.5 MB/s eta 0:00:04\n",
      "   ------------------------------ --------- 77.7/101.7 MB 7.5 MB/s eta 0:00:04\n",
      "   ------------------------------ --------- 78.1/101.7 MB 7.6 MB/s eta 0:00:04\n",
      "   ------------------------------ --------- 78.4/101.7 MB 7.5 MB/s eta 0:00:04\n",
      "   ------------------------------ --------- 78.8/101.7 MB 7.6 MB/s eta 0:00:04\n",
      "   ------------------------------- -------- 79.1/101.7 MB 7.6 MB/s eta 0:00:03\n",
      "   ------------------------------- -------- 79.5/101.7 MB 7.6 MB/s eta 0:00:03\n",
      "   ------------------------------- -------- 79.9/101.7 MB 7.6 MB/s eta 0:00:03\n",
      "   ------------------------------- -------- 80.2/101.7 MB 7.6 MB/s eta 0:00:03\n",
      "   ------------------------------- -------- 80.6/101.7 MB 7.6 MB/s eta 0:00:03\n",
      "   ------------------------------- -------- 80.9/101.7 MB 7.6 MB/s eta 0:00:03\n",
      "   ------------------------------- -------- 81.3/101.7 MB 7.6 MB/s eta 0:00:03\n",
      "   -------------------------------- ------- 81.6/101.7 MB 7.6 MB/s eta 0:00:03\n",
      "   -------------------------------- ------- 82.0/101.7 MB 7.6 MB/s eta 0:00:03\n",
      "   -------------------------------- ------- 82.3/101.7 MB 7.6 MB/s eta 0:00:03\n",
      "   -------------------------------- ------- 82.7/101.7 MB 7.6 MB/s eta 0:00:03\n",
      "   -------------------------------- ------- 83.1/101.7 MB 7.7 MB/s eta 0:00:03\n",
      "   -------------------------------- ------- 83.4/101.7 MB 7.7 MB/s eta 0:00:03\n",
      "   -------------------------------- ------- 83.8/101.7 MB 7.7 MB/s eta 0:00:03\n",
      "   --------------------------------- ------ 84.2/101.7 MB 7.7 MB/s eta 0:00:03\n",
      "   --------------------------------- ------ 84.5/101.7 MB 7.7 MB/s eta 0:00:03\n",
      "   --------------------------------- ------ 84.9/101.7 MB 7.7 MB/s eta 0:00:03\n",
      "   --------------------------------- ------ 85.3/101.7 MB 7.7 MB/s eta 0:00:03\n",
      "   --------------------------------- ------ 85.6/101.7 MB 7.7 MB/s eta 0:00:03\n",
      "   --------------------------------- ------ 86.0/101.7 MB 7.7 MB/s eta 0:00:03\n",
      "   --------------------------------- ------ 86.3/101.7 MB 7.7 MB/s eta 0:00:03\n",
      "   ---------------------------------- ----- 86.7/101.7 MB 7.7 MB/s eta 0:00:02\n",
      "   ---------------------------------- ----- 87.1/101.7 MB 7.7 MB/s eta 0:00:02\n",
      "   ---------------------------------- ----- 87.4/101.7 MB 7.8 MB/s eta 0:00:02\n",
      "   ---------------------------------- ----- 87.8/101.7 MB 7.8 MB/s eta 0:00:02\n",
      "   ---------------------------------- ----- 88.2/101.7 MB 7.8 MB/s eta 0:00:02\n",
      "   ---------------------------------- ----- 88.5/101.7 MB 7.9 MB/s eta 0:00:02\n",
      "   ---------------------------------- ----- 88.9/101.7 MB 7.9 MB/s eta 0:00:02\n",
      "   ----------------------------------- ---- 89.3/101.7 MB 7.9 MB/s eta 0:00:02\n",
      "   ----------------------------------- ---- 89.7/101.7 MB 7.9 MB/s eta 0:00:02\n",
      "   ----------------------------------- ---- 90.1/101.7 MB 7.9 MB/s eta 0:00:02\n",
      "   ----------------------------------- ---- 90.4/101.7 MB 7.9 MB/s eta 0:00:02\n",
      "   ----------------------------------- ---- 90.8/101.7 MB 7.9 MB/s eta 0:00:02\n",
      "   ----------------------------------- ---- 91.1/101.7 MB 7.9 MB/s eta 0:00:02\n",
      "   ----------------------------------- ---- 91.5/101.7 MB 8.0 MB/s eta 0:00:02\n",
      "   ------------------------------------ --- 91.9/101.7 MB 8.0 MB/s eta 0:00:02\n",
      "   ------------------------------------ --- 92.3/101.7 MB 8.0 MB/s eta 0:00:02\n",
      "   ------------------------------------ --- 92.6/101.7 MB 8.0 MB/s eta 0:00:02\n",
      "   ------------------------------------ --- 93.0/101.7 MB 8.0 MB/s eta 0:00:02\n",
      "   ------------------------------------ --- 93.4/101.7 MB 8.1 MB/s eta 0:00:02\n",
      "   ------------------------------------ --- 93.8/101.7 MB 8.1 MB/s eta 0:00:01\n",
      "   ------------------------------------- -- 94.2/101.7 MB 8.0 MB/s eta 0:00:01\n",
      "   ------------------------------------- -- 94.5/101.7 MB 8.1 MB/s eta 0:00:01\n",
      "   ------------------------------------- -- 94.9/101.7 MB 8.1 MB/s eta 0:00:01\n",
      "   ------------------------------------- -- 95.3/101.7 MB 8.2 MB/s eta 0:00:01\n",
      "   ------------------------------------- -- 95.7/101.7 MB 8.2 MB/s eta 0:00:01\n",
      "   ------------------------------------- -- 96.1/101.7 MB 8.2 MB/s eta 0:00:01\n",
      "   ------------------------------------- -- 96.5/101.7 MB 8.2 MB/s eta 0:00:01\n",
      "   -------------------------------------- - 96.8/101.7 MB 8.2 MB/s eta 0:00:01\n",
      "   -------------------------------------- - 97.2/101.7 MB 8.2 MB/s eta 0:00:01\n",
      "   -------------------------------------- - 97.6/101.7 MB 8.2 MB/s eta 0:00:01\n",
      "   -------------------------------------- - 98.0/101.7 MB 8.2 MB/s eta 0:00:01\n",
      "   -------------------------------------- - 98.4/101.7 MB 8.2 MB/s eta 0:00:01\n",
      "   -------------------------------------- - 98.8/101.7 MB 8.2 MB/s eta 0:00:01\n",
      "   -------------------------------------- - 99.2/101.7 MB 8.2 MB/s eta 0:00:01\n",
      "   ---------------------------------------  99.6/101.7 MB 8.3 MB/s eta 0:00:01\n",
      "   ---------------------------------------  100.0/101.7 MB 8.3 MB/s eta 0:00:01\n",
      "   ---------------------------------------  100.4/101.7 MB 8.3 MB/s eta 0:00:01\n",
      "   ---------------------------------------  100.8/101.7 MB 8.3 MB/s eta 0:00:01\n",
      "   ---------------------------------------  101.2/101.7 MB 8.3 MB/s eta 0:00:01\n",
      "   ---------------------------------------  101.5/101.7 MB 8.3 MB/s eta 0:00:01\n",
      "   ---------------------------------------  101.7/101.7 MB 8.3 MB/s eta 0:00:01\n",
      "   ---------------------------------------  101.7/101.7 MB 8.3 MB/s eta 0:00:01\n",
      "   ---------------------------------------  101.7/101.7 MB 8.3 MB/s eta 0:00:01\n",
      "   ---------------------------------------- 101.7/101.7 MB 7.4 MB/s eta 0:00:00\n",
      "Downloading graphviz-0.20.3-py3-none-any.whl (47 kB)\n",
      "   ---------------------------------------- 0.0/47.1 kB ? eta -:--:--\n",
      "   ---------------------------------------- 47.1/47.1 kB ? eta 0:00:00\n",
      "Installing collected packages: graphviz, catboost\n",
      "Successfully installed catboost-1.2.7 graphviz-0.20.3\n"
     ]
    }
   ],
   "source": [
    "!pip install catboost"
   ]
  },
  {
   "cell_type": "markdown",
   "id": "ed180e0d-27c2-4ac4-ba6b-f42e29ccce49",
   "metadata": {
    "tags": []
   },
   "source": [
    "## Задачи"
   ]
  },
  {
   "cell_type": "markdown",
   "id": "b10f115b-b92e-4792-adde-6aa4ef545656",
   "metadata": {
    "tags": []
   },
   "source": [
    "1) предобработки данных\n",
    "2) бинарной классификации\n",
    "3) проведения A/B-тестирования\n",
    "4) кластеризации\n",
    "5) построения модели склонности клиента к покупке"
   ]
  },
  {
   "cell_type": "markdown",
   "id": "25d59556-9d7f-4136-95ed-5faa7e5b40ab",
   "metadata": {
    "tags": []
   },
   "source": [
    "## Библиотеки"
   ]
  },
  {
   "cell_type": "code",
   "execution_count": 1,
   "id": "910ece2f-1946-4eb3-a872-63973de91cb7",
   "metadata": {
    "tags": []
   },
   "outputs": [],
   "source": [
    "import pandas as pd\n",
    "import numpy as np\n",
    "import sqlite3\n",
    "import re\n",
    "import warnings\n",
    "from sklearn.preprocessing import OneHotEncoder\n",
    "from sklearn.linear_model import LinearRegression, LogisticRegression\n",
    "from sklearn.ensemble import RandomForestClassifier, RandomForestRegressor\n",
    "from sklearn.tree import DecisionTreeClassifier, DecisionTreeRegressor\n",
    "from sklearn.model_selection import train_test_split \n",
    "from sklearn.preprocessing import StandardScaler, MinMaxScaler\n",
    "from sklearn.metrics import accuracy_score\n",
    "from catboost import CatBoostClassifier\n",
    "from sklearn.ensemble import GradientBoostingClassifier\n",
    "from sklearn.model_selection import StratifiedKFold, RandomizedSearchCV\n",
    "from scipy import stats\n",
    "import matplotlib.pyplot as plt\n",
    "import seaborn as sns\n",
    "from kmodes.kprototypes import KPrototypes\n",
    "from sklearn.cluster import KMeans\n",
    "from sklearn.manifold import TSNE\n",
    "from sklearn.cluster import AgglomerativeClustering, KMeans\n",
    "from sklearn.metrics import silhouette_score"
   ]
  },
  {
   "cell_type": "markdown",
   "id": "980a37bd-df02-4347-82d7-1d894d74643c",
   "metadata": {
    "tags": []
   },
   "source": [
    "## Работа с БД"
   ]
  },
  {
   "cell_type": "code",
   "execution_count": 3,
   "id": "b4378812-5c9e-4c57-9cc9-7e76d6ae6f98",
   "metadata": {
    "tags": []
   },
   "outputs": [
    {
     "name": "stdout",
     "output_type": "stream",
     "text": [
      "Table Name : [('purchases',), ('personal_data_coeffs',), ('personal_data',)]\n"
     ]
    }
   ],
   "source": [
    "dbfile = \"data/result_data/shop_database.db\"\n",
    "conn = sqlite3.connect(dbfile)\n",
    "cursor = conn.cursor()\n",
    "\n",
    "cursor.execute(\"SELECT name FROM sqlite_master WHERE type='table';\")\n",
    "print(f\"Table Name : {cursor.fetchall()}\")"
   ]
  },
  {
   "cell_type": "code",
   "execution_count": 5,
   "id": "ef99864f-437a-424d-98a5-b09da85065ae",
   "metadata": {
    "tags": []
   },
   "outputs": [],
   "source": [
    "df_personal = pd.read_sql_query(\"select personal_data_coeffs.id as id, personal_coef, \\\n",
    "                        age, gender, education, city, country from personal_data_coeffs \\\n",
    "                        LEFT join personal_data \\\n",
    "                        on personal_data_coeffs.id=personal_data.id \\\n",
    "                        union \\\n",
    "                        select personal_data_coeffs.id as id, personal_coef, \\\n",
    "                        age, gender, education, city, country from personal_data \\\n",
    "                        LEFT join personal_data_coeffs \\\n",
    "                        on personal_data_coeffs.id=personal_data.id \\\n",
    "                        \", conn)"
   ]
  },
  {
   "cell_type": "code",
   "execution_count": 6,
   "id": "ea4f5606-755a-4be9-89fd-26de7a89ee39",
   "metadata": {
    "tags": []
   },
   "outputs": [],
   "source": [
    "df_shop = pd.read_sql_query(\"select * from purchases\", conn)"
   ]
  },
  {
   "cell_type": "code",
   "execution_count": 6,
   "id": "46c4dc7b-1b86-43bc-9c00-58f7f1d60c0f",
   "metadata": {
    "tags": []
   },
   "outputs": [],
   "source": [
    "conn.close()"
   ]
  },
  {
   "cell_type": "markdown",
   "id": "aba230cd-670b-4648-b3de-7fa1cd9c01bc",
   "metadata": {
    "tags": []
   },
   "source": [
    "## Моделирование фичи \"Пол\""
   ]
  },
  {
   "cell_type": "markdown",
   "id": "a9eeb128-74bf-42c0-b769-09349e94416d",
   "metadata": {
    "tags": []
   },
   "source": [
    "### Подготовка к моделированию "
   ]
  },
  {
   "cell_type": "code",
   "execution_count": 17,
   "id": "cda4c7fa-6865-414d-b1b2-31337aab3028",
   "metadata": {
    "tags": []
   },
   "outputs": [],
   "source": [
    "df_unknown_gender = pd.read_csv(\"data/result_data/personal_data.csv.gz\", compression='gzip')\n",
    "df_unknown_gender = df_unknown_gender.sort_values(\"id\").reset_index().drop(\"index\", axis=1)\n",
    "df_unknown_gender[\"gender\"] = None"
   ]
  },
  {
   "cell_type": "code",
   "execution_count": 19,
   "id": "e1dbf136-c006-4852-a7bf-46910cac07fa",
   "metadata": {
    "tags": []
   },
   "outputs": [
    {
     "name": "stderr",
     "output_type": "stream",
     "text": [
      "C:\\Users\\1\\AppData\\Local\\Temp\\ipykernel_22408\\4076741188.py:5: FutureWarning: The behavior of DataFrame concatenation with empty or all-NA entries is deprecated. In a future version, this will no longer exclude empty or all-NA columns when determining the result dtypes. To retain the old behavior, exclude the relevant entries before the concat operation.\n",
      "  df_personal_ = pd.concat([df_personal_full, df_personal_not_full]).reset_index().drop(\"index\", axis=1)\n"
     ]
    }
   ],
   "source": [
    "df_personal_full = df_personal.loc[~df_personal.gender.isna()].reset_index().drop(\"index\", axis=1)\n",
    "df_personal_not_full = df_personal.loc[df_personal.gender.isna()].reset_index().drop(\"index\", axis=1)\n",
    "df_personal_not_full = df_personal_not_full.fillna(df_unknown_gender)\n",
    "\n",
    "df_personal_ = pd.concat([df_personal_full, df_personal_not_full]).reset_index().drop(\"index\", axis=1)"
   ]
  },
  {
   "cell_type": "code",
   "execution_count": 20,
   "id": "9f906019-e4a7-4235-b32b-ac3c6dad352c",
   "metadata": {
    "tags": []
   },
   "outputs": [
    {
     "name": "stdout",
     "output_type": "stream",
     "text": [
      "<class 'pandas.core.frame.DataFrame'>\n",
      "RangeIndex: 104989 entries, 0 to 104988\n",
      "Data columns (total 7 columns):\n",
      " #   Column         Non-Null Count   Dtype  \n",
      "---  ------         --------------   -----  \n",
      " 0   id             104989 non-null  int64  \n",
      " 1   personal_coef  104989 non-null  float64\n",
      " 2   age            104989 non-null  float64\n",
      " 3   gender         89241 non-null   float64\n",
      " 4   education      104989 non-null  object \n",
      " 5   city           104989 non-null  float64\n",
      " 6   country        104989 non-null  float64\n",
      "dtypes: float64(5), int64(1), object(1)\n",
      "memory usage: 5.6+ MB\n"
     ]
    }
   ],
   "source": [
    "df_personal_.info()"
   ]
  },
  {
   "cell_type": "code",
   "execution_count": 21,
   "id": "6a9cbb43-6915-4986-b9f1-474f763ae5aa",
   "metadata": {
    "tags": []
   },
   "outputs": [],
   "source": [
    "df_personal_[\"education\"] = df_personal_[\"education\"].astype('category')\n",
    "df_personal_[\"education\"] = df_personal_.education.cat.rename_categories({'среднее': 0, 'высшее': 1}).astype(int)"
   ]
  },
  {
   "cell_type": "code",
   "execution_count": 22,
   "id": "7a022fab-2afe-407a-9c51-71857d3eacb1",
   "metadata": {
    "tags": []
   },
   "outputs": [],
   "source": [
    "df_personal_t = df_personal_.copy()"
   ]
  },
  {
   "cell_type": "code",
   "execution_count": 25,
   "id": "6625fa71-de68-4bbd-a469-d8b2fd46a4d3",
   "metadata": {
    "tags": []
   },
   "outputs": [
    {
     "data": {
      "text/plain": [
       "gender\n",
       "1.0    51132\n",
       "0.0    38109\n",
       "NaN    15748\n",
       "Name: count, dtype: int64"
      ]
     },
     "execution_count": 25,
     "metadata": {},
     "output_type": "execute_result"
    }
   ],
   "source": [
    "df_personal_['gender'].value_counts(dropna=False)"
   ]
  },
  {
   "cell_type": "code",
   "execution_count": 24,
   "id": "311142a4-d237-41fe-9d71-51f7c094acbc",
   "metadata": {
    "tags": []
   },
   "outputs": [],
   "source": [
    "df_personal_test = df_personal_[df_personal_['gender'].isna()]\n",
    "df_personal_train = df_personal_[~df_personal_['gender'].isna()]"
   ]
  },
  {
   "cell_type": "code",
   "execution_count": 26,
   "id": "fa9b68bc-e440-43f7-9ae3-618838dc5158",
   "metadata": {
    "tags": []
   },
   "outputs": [],
   "source": [
    "y_train = df_personal_train['gender']\n",
    "y_test  = df_personal_test['gender']"
   ]
  },
  {
   "cell_type": "code",
   "execution_count": 28,
   "id": "d6fa9759-2dd8-4635-9813-18841be615d6",
   "metadata": {
    "tags": []
   },
   "outputs": [],
   "source": [
    "x_train = df_personal_train.drop([\"gender\", \"personal_coef\", \"id\"], axis=1)\n",
    "x_test = df_personal_test.drop([\"gender\", \"personal_coef\", \"id\"], axis=1)"
   ]
  },
  {
   "cell_type": "markdown",
   "id": "7706f843-0cf4-4ece-b10e-cd4f9aa18caf",
   "metadata": {
    "jp-MarkdownHeadingCollapsed": true,
    "tags": []
   },
   "source": [
    "### Случайный лес"
   ]
  },
  {
   "cell_type": "code",
   "execution_count": 27,
   "id": "0fac0177-c360-4878-be2c-147d885976bf",
   "metadata": {
    "tags": []
   },
   "outputs": [],
   "source": [
    "skf = StratifiedKFold(n_splits=3, shuffle=True, random_state=42)"
   ]
  },
  {
   "cell_type": "code",
   "execution_count": 35,
   "id": "04052c5d-ed8a-4682-9199-85aeeecc4e92",
   "metadata": {
    "tags": []
   },
   "outputs": [],
   "source": [
    "rfc = RandomForestClassifier()"
   ]
  },
  {
   "cell_type": "code",
   "execution_count": null,
   "id": "0906c848-dc78-40ad-9f95-143f17645451",
   "metadata": {
    "tags": []
   },
   "outputs": [],
   "source": [
    "params = {'n_estimators' : [300, 500, 700],\n",
    "          'max_depth': np.arange(10, 60, 4),\n",
    "          'min_samples_leaf': np.arange(1, 10, 1),\n",
    "          'min_samples_split': np.arange(2, 20, 2)}\n",
    "rs = RandomizedSearchCV(rfc, params, cv=skf, scoring='f1', n_jobs=-1, error_score='raise') # для выбора параметров испольуем F-меру\n",
    "rs.fit(x_train, y_train)\n",
    "print('Скор наилучший: ', rs.best_score_)\n",
    "print('Лучшие параметры: ', rs.best_params_)"
   ]
  },
  {
   "cell_type": "markdown",
   "id": "602dfaa4-aeb5-4bff-b044-5b161453407c",
   "metadata": {
    "jp-MarkdownHeadingCollapsed": true,
    "tags": []
   },
   "source": [
    "### CatBoost"
   ]
  },
  {
   "cell_type": "code",
   "execution_count": 40,
   "id": "0f1ffd51-3ead-4809-9761-2a9f45dfa8d6",
   "metadata": {
    "tags": []
   },
   "outputs": [],
   "source": [
    "cbc = CatBoostClassifier()"
   ]
  },
  {
   "cell_type": "code",
   "execution_count": 42,
   "id": "6c8d73b7-c820-4b81-aae1-c51c74b0af6b",
   "metadata": {
    "collapsed": true,
    "jupyter": {
     "outputs_hidden": true
    },
    "tags": []
   },
   "outputs": [
    {
     "name": "stderr",
     "output_type": "stream",
     "text": [
      "C:\\Users\\1\\anaconda3\\Lib\\site-packages\\sklearn\\model_selection\\_search.py:305: UserWarning: The total space of parameters 3 is smaller than n_iter=10. Running 3 iterations. For exhaustive searches, use GridSearchCV.\n",
      "  warnings.warn(\n"
     ]
    },
    {
     "name": "stdout",
     "output_type": "stream",
     "text": [
      "Learning rate set to 0.132394\n",
      "0:\tlearn: 0.6876338\ttotal: 151ms\tremaining: 1m 15s\n",
      "1:\tlearn: 0.6833544\ttotal: 165ms\tremaining: 41s\n",
      "2:\tlearn: 0.6803294\ttotal: 172ms\tremaining: 28.5s\n",
      "3:\tlearn: 0.6780286\ttotal: 179ms\tremaining: 22.1s\n",
      "4:\tlearn: 0.6762689\ttotal: 188ms\tremaining: 18.6s\n",
      "5:\tlearn: 0.6747729\ttotal: 226ms\tremaining: 18.6s\n",
      "6:\tlearn: 0.6736816\ttotal: 237ms\tremaining: 16.7s\n",
      "7:\tlearn: 0.6727482\ttotal: 277ms\tremaining: 17s\n",
      "8:\tlearn: 0.6719695\ttotal: 316ms\tremaining: 17.3s\n",
      "9:\tlearn: 0.6714841\ttotal: 337ms\tremaining: 16.5s\n",
      "10:\tlearn: 0.6710695\ttotal: 347ms\tremaining: 15.4s\n",
      "11:\tlearn: 0.6707546\ttotal: 367ms\tremaining: 14.9s\n",
      "12:\tlearn: 0.6706109\ttotal: 373ms\tremaining: 14s\n",
      "13:\tlearn: 0.6703521\ttotal: 411ms\tremaining: 14.3s\n",
      "14:\tlearn: 0.6701213\ttotal: 432ms\tremaining: 14s\n",
      "15:\tlearn: 0.6698825\ttotal: 472ms\tremaining: 14.3s\n",
      "16:\tlearn: 0.6697120\ttotal: 494ms\tremaining: 14s\n",
      "17:\tlearn: 0.6695492\ttotal: 535ms\tremaining: 14.3s\n",
      "18:\tlearn: 0.6694841\ttotal: 544ms\tremaining: 13.8s\n",
      "19:\tlearn: 0.6693701\ttotal: 564ms\tremaining: 13.5s\n",
      "20:\tlearn: 0.6692366\ttotal: 601ms\tremaining: 13.7s\n",
      "21:\tlearn: 0.6692256\ttotal: 606ms\tremaining: 13.2s\n",
      "22:\tlearn: 0.6691880\ttotal: 616ms\tremaining: 12.8s\n",
      "23:\tlearn: 0.6690971\ttotal: 635ms\tremaining: 12.6s\n",
      "24:\tlearn: 0.6690092\ttotal: 674ms\tremaining: 12.8s\n",
      "25:\tlearn: 0.6689245\ttotal: 714ms\tremaining: 13s\n",
      "26:\tlearn: 0.6688545\ttotal: 734ms\tremaining: 12.9s\n",
      "27:\tlearn: 0.6687765\ttotal: 773ms\tremaining: 13s\n",
      "28:\tlearn: 0.6687092\ttotal: 813ms\tremaining: 13.2s\n",
      "29:\tlearn: 0.6686371\ttotal: 852ms\tremaining: 13.3s\n",
      "30:\tlearn: 0.6685711\ttotal: 891ms\tremaining: 13.5s\n",
      "31:\tlearn: 0.6685262\ttotal: 927ms\tremaining: 13.6s\n",
      "32:\tlearn: 0.6684502\ttotal: 964ms\tremaining: 13.6s\n",
      "33:\tlearn: 0.6684271\ttotal: 975ms\tremaining: 13.4s\n",
      "34:\tlearn: 0.6683321\ttotal: 1.01s\tremaining: 13.5s\n",
      "35:\tlearn: 0.6683021\ttotal: 1.05s\tremaining: 13.6s\n",
      "36:\tlearn: 0.6682532\ttotal: 1.07s\tremaining: 13.4s\n",
      "37:\tlearn: 0.6681938\ttotal: 1.11s\tremaining: 13.5s\n",
      "38:\tlearn: 0.6681932\ttotal: 1.12s\tremaining: 13.2s\n",
      "39:\tlearn: 0.6681792\ttotal: 1.13s\tremaining: 13s\n",
      "40:\tlearn: 0.6681041\ttotal: 1.17s\tremaining: 13.1s\n",
      "41:\tlearn: 0.6680820\ttotal: 1.19s\tremaining: 12.9s\n",
      "42:\tlearn: 0.6680462\ttotal: 1.22s\tremaining: 13s\n",
      "43:\tlearn: 0.6679821\ttotal: 1.26s\tremaining: 13.1s\n",
      "44:\tlearn: 0.6679780\ttotal: 1.27s\tremaining: 12.9s\n",
      "45:\tlearn: 0.6679294\ttotal: 1.31s\tremaining: 13s\n",
      "46:\tlearn: 0.6679005\ttotal: 1.32s\tremaining: 12.8s\n",
      "47:\tlearn: 0.6679005\ttotal: 1.33s\tremaining: 12.5s\n",
      "48:\tlearn: 0.6678857\ttotal: 1.34s\tremaining: 12.3s\n",
      "49:\tlearn: 0.6678639\ttotal: 1.36s\tremaining: 12.2s\n",
      "50:\tlearn: 0.6678620\ttotal: 1.37s\tremaining: 12s\n",
      "51:\tlearn: 0.6678618\ttotal: 1.37s\tremaining: 11.8s\n",
      "52:\tlearn: 0.6678209\ttotal: 1.38s\tremaining: 11.7s\n",
      "53:\tlearn: 0.6678031\ttotal: 1.4s\tremaining: 11.5s\n",
      "54:\tlearn: 0.6677518\ttotal: 1.43s\tremaining: 11.6s\n",
      "55:\tlearn: 0.6677281\ttotal: 1.44s\tremaining: 11.4s\n",
      "56:\tlearn: 0.6676922\ttotal: 1.45s\tremaining: 11.3s\n",
      "57:\tlearn: 0.6676923\ttotal: 1.46s\tremaining: 11.1s\n",
      "58:\tlearn: 0.6676377\ttotal: 1.5s\tremaining: 11.2s\n",
      "59:\tlearn: 0.6675835\ttotal: 1.52s\tremaining: 11.1s\n",
      "60:\tlearn: 0.6675526\ttotal: 1.55s\tremaining: 11.2s\n",
      "61:\tlearn: 0.6675003\ttotal: 1.59s\tremaining: 11.2s\n",
      "62:\tlearn: 0.6674411\ttotal: 1.63s\tremaining: 11.3s\n",
      "63:\tlearn: 0.6674233\ttotal: 1.65s\tremaining: 11.2s\n",
      "64:\tlearn: 0.6673866\ttotal: 1.69s\tremaining: 11.3s\n",
      "65:\tlearn: 0.6673329\ttotal: 1.73s\tremaining: 11.3s\n",
      "66:\tlearn: 0.6673120\ttotal: 1.76s\tremaining: 11.4s\n",
      "67:\tlearn: 0.6672598\ttotal: 1.81s\tremaining: 11.5s\n",
      "68:\tlearn: 0.6671784\ttotal: 1.82s\tremaining: 11.4s\n",
      "69:\tlearn: 0.6671558\ttotal: 1.84s\tremaining: 11.3s\n",
      "70:\tlearn: 0.6671193\ttotal: 1.88s\tremaining: 11.4s\n",
      "71:\tlearn: 0.6671045\ttotal: 1.9s\tremaining: 11.3s\n",
      "72:\tlearn: 0.6671005\ttotal: 1.91s\tremaining: 11.1s\n",
      "73:\tlearn: 0.6670469\ttotal: 1.93s\tremaining: 11.1s\n",
      "74:\tlearn: 0.6669970\ttotal: 1.95s\tremaining: 11s\n",
      "75:\tlearn: 0.6669860\ttotal: 1.96s\tremaining: 10.9s\n",
      "76:\tlearn: 0.6669595\ttotal: 1.99s\tremaining: 10.9s\n",
      "77:\tlearn: 0.6668824\ttotal: 2.03s\tremaining: 11s\n",
      "78:\tlearn: 0.6668670\ttotal: 2.04s\tremaining: 10.9s\n",
      "79:\tlearn: 0.6668189\ttotal: 2.08s\tremaining: 10.9s\n",
      "80:\tlearn: 0.6668158\ttotal: 2.09s\tremaining: 10.8s\n",
      "81:\tlearn: 0.6667344\ttotal: 2.13s\tremaining: 10.9s\n",
      "82:\tlearn: 0.6667138\ttotal: 2.14s\tremaining: 10.7s\n",
      "83:\tlearn: 0.6667135\ttotal: 2.15s\tremaining: 10.6s\n",
      "84:\tlearn: 0.6666555\ttotal: 2.19s\tremaining: 10.7s\n",
      "85:\tlearn: 0.6665884\ttotal: 2.23s\tremaining: 10.8s\n",
      "86:\tlearn: 0.6665481\ttotal: 2.27s\tremaining: 10.8s\n",
      "87:\tlearn: 0.6664684\ttotal: 2.32s\tremaining: 10.9s\n",
      "88:\tlearn: 0.6664420\ttotal: 2.34s\tremaining: 10.8s\n",
      "89:\tlearn: 0.6663403\ttotal: 2.38s\tremaining: 10.8s\n",
      "90:\tlearn: 0.6663205\ttotal: 2.42s\tremaining: 10.9s\n",
      "91:\tlearn: 0.6662241\ttotal: 2.46s\tremaining: 10.9s\n",
      "92:\tlearn: 0.6661706\ttotal: 2.5s\tremaining: 10.9s\n",
      "93:\tlearn: 0.6661330\ttotal: 2.52s\tremaining: 10.9s\n",
      "94:\tlearn: 0.6660598\ttotal: 2.56s\tremaining: 10.9s\n",
      "95:\tlearn: 0.6660235\ttotal: 2.6s\tremaining: 10.9s\n",
      "96:\tlearn: 0.6659241\ttotal: 2.64s\tremaining: 11s\n",
      "97:\tlearn: 0.6658761\ttotal: 2.68s\tremaining: 11s\n",
      "98:\tlearn: 0.6657945\ttotal: 2.72s\tremaining: 11s\n",
      "99:\tlearn: 0.6656936\ttotal: 2.76s\tremaining: 11s\n",
      "100:\tlearn: 0.6656209\ttotal: 2.8s\tremaining: 11.1s\n",
      "101:\tlearn: 0.6655333\ttotal: 2.84s\tremaining: 11.1s\n",
      "102:\tlearn: 0.6654666\ttotal: 2.88s\tremaining: 11.1s\n",
      "103:\tlearn: 0.6654024\ttotal: 2.91s\tremaining: 11.1s\n",
      "104:\tlearn: 0.6653198\ttotal: 2.95s\tremaining: 11.1s\n",
      "105:\tlearn: 0.6652351\ttotal: 3s\tremaining: 11.1s\n",
      "106:\tlearn: 0.6651546\ttotal: 3.03s\tremaining: 11.1s\n",
      "107:\tlearn: 0.6650878\ttotal: 3.08s\tremaining: 11.2s\n",
      "108:\tlearn: 0.6650328\ttotal: 3.12s\tremaining: 11.2s\n",
      "109:\tlearn: 0.6649155\ttotal: 3.16s\tremaining: 11.2s\n",
      "110:\tlearn: 0.6648363\ttotal: 3.2s\tremaining: 11.2s\n",
      "111:\tlearn: 0.6647719\ttotal: 3.24s\tremaining: 11.2s\n",
      "112:\tlearn: 0.6647115\ttotal: 3.28s\tremaining: 11.2s\n",
      "113:\tlearn: 0.6646336\ttotal: 3.32s\tremaining: 11.2s\n",
      "114:\tlearn: 0.6645709\ttotal: 3.35s\tremaining: 11.2s\n",
      "115:\tlearn: 0.6644749\ttotal: 3.4s\tremaining: 11.2s\n",
      "116:\tlearn: 0.6644093\ttotal: 3.44s\tremaining: 11.2s\n",
      "117:\tlearn: 0.6643489\ttotal: 3.48s\tremaining: 11.2s\n",
      "118:\tlearn: 0.6642995\ttotal: 3.51s\tremaining: 11.3s\n",
      "119:\tlearn: 0.6642554\ttotal: 3.55s\tremaining: 11.3s\n",
      "120:\tlearn: 0.6641677\ttotal: 3.59s\tremaining: 11.3s\n",
      "121:\tlearn: 0.6641214\ttotal: 3.63s\tremaining: 11.2s\n",
      "122:\tlearn: 0.6640550\ttotal: 3.66s\tremaining: 11.2s\n",
      "123:\tlearn: 0.6640095\ttotal: 3.7s\tremaining: 11.2s\n",
      "124:\tlearn: 0.6639351\ttotal: 3.74s\tremaining: 11.2s\n",
      "125:\tlearn: 0.6638683\ttotal: 3.78s\tremaining: 11.2s\n",
      "126:\tlearn: 0.6638067\ttotal: 3.82s\tremaining: 11.2s\n",
      "127:\tlearn: 0.6637431\ttotal: 3.86s\tremaining: 11.2s\n",
      "128:\tlearn: 0.6636804\ttotal: 3.9s\tremaining: 11.2s\n",
      "129:\tlearn: 0.6636154\ttotal: 3.94s\tremaining: 11.2s\n",
      "130:\tlearn: 0.6635642\ttotal: 3.98s\tremaining: 11.2s\n",
      "131:\tlearn: 0.6634924\ttotal: 4.02s\tremaining: 11.2s\n",
      "132:\tlearn: 0.6634177\ttotal: 4.06s\tremaining: 11.2s\n",
      "133:\tlearn: 0.6633800\ttotal: 4.1s\tremaining: 11.2s\n",
      "134:\tlearn: 0.6633110\ttotal: 4.14s\tremaining: 11.2s\n",
      "135:\tlearn: 0.6632269\ttotal: 4.18s\tremaining: 11.2s\n",
      "136:\tlearn: 0.6631774\ttotal: 4.21s\tremaining: 11.2s\n",
      "137:\tlearn: 0.6631158\ttotal: 4.25s\tremaining: 11.2s\n",
      "138:\tlearn: 0.6630533\ttotal: 4.29s\tremaining: 11.2s\n",
      "139:\tlearn: 0.6630087\ttotal: 4.33s\tremaining: 11.1s\n",
      "140:\tlearn: 0.6629696\ttotal: 4.37s\tremaining: 11.1s\n",
      "141:\tlearn: 0.6629141\ttotal: 4.41s\tremaining: 11.1s\n",
      "142:\tlearn: 0.6628768\ttotal: 4.45s\tremaining: 11.1s\n",
      "143:\tlearn: 0.6628000\ttotal: 4.49s\tremaining: 11.1s\n",
      "144:\tlearn: 0.6627231\ttotal: 4.54s\tremaining: 11.1s\n",
      "145:\tlearn: 0.6626333\ttotal: 4.58s\tremaining: 11.1s\n",
      "146:\tlearn: 0.6625418\ttotal: 4.62s\tremaining: 11.1s\n",
      "147:\tlearn: 0.6625126\ttotal: 4.65s\tremaining: 11.1s\n",
      "148:\tlearn: 0.6624535\ttotal: 4.69s\tremaining: 11.1s\n",
      "149:\tlearn: 0.6624021\ttotal: 4.73s\tremaining: 11s\n",
      "150:\tlearn: 0.6623414\ttotal: 4.77s\tremaining: 11s\n",
      "151:\tlearn: 0.6622923\ttotal: 4.82s\tremaining: 11s\n",
      "152:\tlearn: 0.6622558\ttotal: 4.86s\tremaining: 11s\n",
      "153:\tlearn: 0.6621872\ttotal: 4.9s\tremaining: 11s\n",
      "154:\tlearn: 0.6621477\ttotal: 4.94s\tremaining: 11s\n",
      "155:\tlearn: 0.6621103\ttotal: 4.98s\tremaining: 11s\n",
      "156:\tlearn: 0.6620611\ttotal: 5.02s\tremaining: 11s\n",
      "157:\tlearn: 0.6619932\ttotal: 5.06s\tremaining: 11s\n",
      "158:\tlearn: 0.6619394\ttotal: 5.1s\tremaining: 10.9s\n",
      "159:\tlearn: 0.6618989\ttotal: 5.14s\tremaining: 10.9s\n",
      "160:\tlearn: 0.6618681\ttotal: 5.18s\tremaining: 10.9s\n",
      "161:\tlearn: 0.6618334\ttotal: 5.22s\tremaining: 10.9s\n",
      "162:\tlearn: 0.6617784\ttotal: 5.26s\tremaining: 10.9s\n",
      "163:\tlearn: 0.6617404\ttotal: 5.3s\tremaining: 10.9s\n",
      "164:\tlearn: 0.6616778\ttotal: 5.34s\tremaining: 10.9s\n",
      "165:\tlearn: 0.6616293\ttotal: 5.39s\tremaining: 10.8s\n",
      "166:\tlearn: 0.6615535\ttotal: 5.43s\tremaining: 10.8s\n",
      "167:\tlearn: 0.6615204\ttotal: 5.47s\tremaining: 10.8s\n",
      "168:\tlearn: 0.6614672\ttotal: 5.51s\tremaining: 10.8s\n",
      "169:\tlearn: 0.6614302\ttotal: 5.55s\tremaining: 10.8s\n",
      "170:\tlearn: 0.6613903\ttotal: 5.59s\tremaining: 10.8s\n",
      "171:\tlearn: 0.6613652\ttotal: 5.63s\tremaining: 10.7s\n",
      "172:\tlearn: 0.6613119\ttotal: 5.67s\tremaining: 10.7s\n",
      "173:\tlearn: 0.6612429\ttotal: 5.71s\tremaining: 10.7s\n",
      "174:\tlearn: 0.6612068\ttotal: 5.75s\tremaining: 10.7s\n",
      "175:\tlearn: 0.6611528\ttotal: 5.79s\tremaining: 10.7s\n",
      "176:\tlearn: 0.6611261\ttotal: 5.83s\tremaining: 10.6s\n",
      "177:\tlearn: 0.6610490\ttotal: 5.88s\tremaining: 10.6s\n",
      "178:\tlearn: 0.6609826\ttotal: 5.92s\tremaining: 10.6s\n",
      "179:\tlearn: 0.6609536\ttotal: 5.96s\tremaining: 10.6s\n",
      "180:\tlearn: 0.6608988\ttotal: 5.99s\tremaining: 10.6s\n",
      "181:\tlearn: 0.6608612\ttotal: 6.03s\tremaining: 10.5s\n",
      "182:\tlearn: 0.6608298\ttotal: 6.07s\tremaining: 10.5s\n",
      "183:\tlearn: 0.6607832\ttotal: 6.11s\tremaining: 10.5s\n",
      "184:\tlearn: 0.6607562\ttotal: 6.16s\tremaining: 10.5s\n",
      "185:\tlearn: 0.6607255\ttotal: 6.2s\tremaining: 10.5s\n",
      "186:\tlearn: 0.6606742\ttotal: 6.24s\tremaining: 10.4s\n",
      "187:\tlearn: 0.6606258\ttotal: 6.28s\tremaining: 10.4s\n",
      "188:\tlearn: 0.6605815\ttotal: 6.32s\tremaining: 10.4s\n",
      "189:\tlearn: 0.6605336\ttotal: 6.35s\tremaining: 10.4s\n",
      "190:\tlearn: 0.6604683\ttotal: 6.39s\tremaining: 10.3s\n",
      "191:\tlearn: 0.6604010\ttotal: 6.43s\tremaining: 10.3s\n",
      "192:\tlearn: 0.6603197\ttotal: 6.47s\tremaining: 10.3s\n",
      "193:\tlearn: 0.6602726\ttotal: 6.52s\tremaining: 10.3s\n",
      "194:\tlearn: 0.6602143\ttotal: 6.56s\tremaining: 10.3s\n",
      "195:\tlearn: 0.6601703\ttotal: 6.6s\tremaining: 10.2s\n",
      "196:\tlearn: 0.6601377\ttotal: 6.64s\tremaining: 10.2s\n",
      "197:\tlearn: 0.6600964\ttotal: 6.68s\tremaining: 10.2s\n",
      "198:\tlearn: 0.6600747\ttotal: 6.71s\tremaining: 10.2s\n",
      "199:\tlearn: 0.6600344\ttotal: 6.75s\tremaining: 10.1s\n",
      "200:\tlearn: 0.6599571\ttotal: 6.79s\tremaining: 10.1s\n",
      "201:\tlearn: 0.6599191\ttotal: 6.84s\tremaining: 10.1s\n",
      "202:\tlearn: 0.6598616\ttotal: 6.88s\tremaining: 10.1s\n",
      "203:\tlearn: 0.6598085\ttotal: 6.92s\tremaining: 10s\n",
      "204:\tlearn: 0.6597561\ttotal: 6.96s\tremaining: 10s\n",
      "205:\tlearn: 0.6596945\ttotal: 7s\tremaining: 9.98s\n",
      "206:\tlearn: 0.6596467\ttotal: 7.03s\tremaining: 9.96s\n",
      "207:\tlearn: 0.6596293\ttotal: 7.07s\tremaining: 9.93s\n",
      "208:\tlearn: 0.6595694\ttotal: 7.11s\tremaining: 9.9s\n",
      "209:\tlearn: 0.6595317\ttotal: 7.15s\tremaining: 9.87s\n",
      "210:\tlearn: 0.6594989\ttotal: 7.19s\tremaining: 9.84s\n",
      "211:\tlearn: 0.6594465\ttotal: 7.23s\tremaining: 9.82s\n",
      "212:\tlearn: 0.6593829\ttotal: 7.27s\tremaining: 9.79s\n",
      "213:\tlearn: 0.6593227\ttotal: 7.31s\tremaining: 9.77s\n",
      "214:\tlearn: 0.6592535\ttotal: 7.35s\tremaining: 9.74s\n",
      "215:\tlearn: 0.6592101\ttotal: 7.39s\tremaining: 9.72s\n",
      "216:\tlearn: 0.6591791\ttotal: 7.43s\tremaining: 9.69s\n",
      "217:\tlearn: 0.6591489\ttotal: 7.47s\tremaining: 9.66s\n",
      "218:\tlearn: 0.6591161\ttotal: 7.51s\tremaining: 9.64s\n",
      "219:\tlearn: 0.6590729\ttotal: 7.57s\tremaining: 9.63s\n",
      "220:\tlearn: 0.6590506\ttotal: 7.61s\tremaining: 9.61s\n",
      "221:\tlearn: 0.6590170\ttotal: 7.66s\tremaining: 9.59s\n",
      "222:\tlearn: 0.6589609\ttotal: 7.7s\tremaining: 9.56s\n",
      "223:\tlearn: 0.6589245\ttotal: 7.74s\tremaining: 9.53s\n",
      "224:\tlearn: 0.6588742\ttotal: 7.78s\tremaining: 9.51s\n",
      "225:\tlearn: 0.6588409\ttotal: 7.82s\tremaining: 9.48s\n",
      "226:\tlearn: 0.6587971\ttotal: 7.86s\tremaining: 9.45s\n",
      "227:\tlearn: 0.6587548\ttotal: 7.9s\tremaining: 9.43s\n",
      "228:\tlearn: 0.6587115\ttotal: 7.94s\tremaining: 9.4s\n",
      "229:\tlearn: 0.6586913\ttotal: 7.99s\tremaining: 9.37s\n",
      "230:\tlearn: 0.6586237\ttotal: 8.03s\tremaining: 9.35s\n",
      "231:\tlearn: 0.6585822\ttotal: 8.07s\tremaining: 9.32s\n",
      "232:\tlearn: 0.6585537\ttotal: 8.11s\tremaining: 9.29s\n",
      "233:\tlearn: 0.6585070\ttotal: 8.15s\tremaining: 9.26s\n",
      "234:\tlearn: 0.6584768\ttotal: 8.19s\tremaining: 9.23s\n",
      "235:\tlearn: 0.6584488\ttotal: 8.23s\tremaining: 9.21s\n",
      "236:\tlearn: 0.6584129\ttotal: 8.27s\tremaining: 9.17s\n",
      "237:\tlearn: 0.6583968\ttotal: 8.31s\tremaining: 9.14s\n",
      "238:\tlearn: 0.6583606\ttotal: 8.35s\tremaining: 9.11s\n",
      "239:\tlearn: 0.6583164\ttotal: 8.39s\tremaining: 9.09s\n",
      "240:\tlearn: 0.6582925\ttotal: 8.43s\tremaining: 9.06s\n",
      "241:\tlearn: 0.6582539\ttotal: 8.47s\tremaining: 9.03s\n",
      "242:\tlearn: 0.6582231\ttotal: 8.51s\tremaining: 9s\n",
      "243:\tlearn: 0.6581813\ttotal: 8.55s\tremaining: 8.97s\n",
      "244:\tlearn: 0.6581547\ttotal: 8.59s\tremaining: 8.94s\n",
      "245:\tlearn: 0.6581117\ttotal: 8.63s\tremaining: 8.91s\n",
      "246:\tlearn: 0.6580662\ttotal: 8.67s\tremaining: 8.88s\n",
      "247:\tlearn: 0.6580217\ttotal: 8.71s\tremaining: 8.85s\n",
      "248:\tlearn: 0.6579930\ttotal: 8.75s\tremaining: 8.82s\n",
      "249:\tlearn: 0.6579742\ttotal: 8.79s\tremaining: 8.79s\n",
      "250:\tlearn: 0.6579374\ttotal: 8.84s\tremaining: 8.77s\n",
      "251:\tlearn: 0.6579224\ttotal: 8.88s\tremaining: 8.74s\n",
      "252:\tlearn: 0.6578924\ttotal: 8.92s\tremaining: 8.71s\n",
      "253:\tlearn: 0.6578796\ttotal: 8.96s\tremaining: 8.68s\n",
      "254:\tlearn: 0.6578418\ttotal: 9s\tremaining: 8.65s\n",
      "255:\tlearn: 0.6578037\ttotal: 9.04s\tremaining: 8.62s\n",
      "256:\tlearn: 0.6577564\ttotal: 9.08s\tremaining: 8.59s\n",
      "257:\tlearn: 0.6577025\ttotal: 9.12s\tremaining: 8.55s\n",
      "258:\tlearn: 0.6576646\ttotal: 9.16s\tremaining: 8.52s\n",
      "259:\tlearn: 0.6576033\ttotal: 9.2s\tremaining: 8.49s\n",
      "260:\tlearn: 0.6575734\ttotal: 9.24s\tremaining: 8.46s\n",
      "261:\tlearn: 0.6575203\ttotal: 9.29s\tremaining: 8.44s\n",
      "262:\tlearn: 0.6574828\ttotal: 9.32s\tremaining: 8.4s\n",
      "263:\tlearn: 0.6574359\ttotal: 9.36s\tremaining: 8.37s\n",
      "264:\tlearn: 0.6574052\ttotal: 9.4s\tremaining: 8.34s\n",
      "265:\tlearn: 0.6573755\ttotal: 9.44s\tremaining: 8.31s\n",
      "266:\tlearn: 0.6573406\ttotal: 9.49s\tremaining: 8.28s\n",
      "267:\tlearn: 0.6573144\ttotal: 9.53s\tremaining: 8.25s\n",
      "268:\tlearn: 0.6572776\ttotal: 9.57s\tremaining: 8.22s\n",
      "269:\tlearn: 0.6572557\ttotal: 9.61s\tremaining: 8.19s\n",
      "270:\tlearn: 0.6572363\ttotal: 9.65s\tremaining: 8.16s\n",
      "271:\tlearn: 0.6572247\ttotal: 9.69s\tremaining: 8.13s\n",
      "272:\tlearn: 0.6571980\ttotal: 9.73s\tremaining: 8.09s\n",
      "273:\tlearn: 0.6571510\ttotal: 9.78s\tremaining: 8.06s\n",
      "274:\tlearn: 0.6571130\ttotal: 9.82s\tremaining: 8.03s\n",
      "275:\tlearn: 0.6570954\ttotal: 9.86s\tremaining: 8s\n",
      "276:\tlearn: 0.6570745\ttotal: 9.9s\tremaining: 7.97s\n",
      "277:\tlearn: 0.6570445\ttotal: 9.94s\tremaining: 7.94s\n",
      "278:\tlearn: 0.6569989\ttotal: 9.98s\tremaining: 7.91s\n",
      "279:\tlearn: 0.6569668\ttotal: 10s\tremaining: 7.88s\n",
      "280:\tlearn: 0.6569308\ttotal: 10.1s\tremaining: 7.84s\n",
      "281:\tlearn: 0.6568978\ttotal: 10.1s\tremaining: 7.81s\n",
      "282:\tlearn: 0.6568605\ttotal: 10.1s\tremaining: 7.78s\n",
      "283:\tlearn: 0.6568385\ttotal: 10.2s\tremaining: 7.75s\n",
      "284:\tlearn: 0.6567973\ttotal: 10.2s\tremaining: 7.71s\n",
      "285:\tlearn: 0.6567742\ttotal: 10.3s\tremaining: 7.68s\n",
      "286:\tlearn: 0.6567365\ttotal: 10.3s\tremaining: 7.65s\n",
      "287:\tlearn: 0.6566997\ttotal: 10.4s\tremaining: 7.62s\n",
      "288:\tlearn: 0.6566659\ttotal: 10.4s\tremaining: 7.59s\n",
      "289:\tlearn: 0.6566265\ttotal: 10.4s\tremaining: 7.55s\n",
      "290:\tlearn: 0.6566035\ttotal: 10.5s\tremaining: 7.52s\n",
      "291:\tlearn: 0.6565579\ttotal: 10.5s\tremaining: 7.49s\n",
      "292:\tlearn: 0.6565190\ttotal: 10.6s\tremaining: 7.46s\n",
      "293:\tlearn: 0.6564750\ttotal: 10.6s\tremaining: 7.42s\n",
      "294:\tlearn: 0.6564467\ttotal: 10.6s\tremaining: 7.39s\n",
      "295:\tlearn: 0.6564048\ttotal: 10.7s\tremaining: 7.36s\n",
      "296:\tlearn: 0.6563741\ttotal: 10.7s\tremaining: 7.33s\n",
      "297:\tlearn: 0.6563565\ttotal: 10.8s\tremaining: 7.3s\n",
      "298:\tlearn: 0.6563378\ttotal: 10.8s\tremaining: 7.26s\n",
      "299:\tlearn: 0.6562816\ttotal: 10.8s\tremaining: 7.23s\n",
      "300:\tlearn: 0.6562448\ttotal: 10.9s\tremaining: 7.2s\n",
      "301:\tlearn: 0.6562176\ttotal: 10.9s\tremaining: 7.17s\n",
      "302:\tlearn: 0.6562007\ttotal: 11s\tremaining: 7.13s\n",
      "303:\tlearn: 0.6561830\ttotal: 11s\tremaining: 7.1s\n",
      "304:\tlearn: 0.6561555\ttotal: 11.1s\tremaining: 7.07s\n",
      "305:\tlearn: 0.6561383\ttotal: 11.1s\tremaining: 7.04s\n",
      "306:\tlearn: 0.6561231\ttotal: 11.1s\tremaining: 7s\n",
      "307:\tlearn: 0.6560956\ttotal: 11.2s\tremaining: 6.97s\n",
      "308:\tlearn: 0.6560681\ttotal: 11.2s\tremaining: 6.94s\n",
      "309:\tlearn: 0.6560499\ttotal: 11.3s\tremaining: 6.9s\n",
      "310:\tlearn: 0.6560148\ttotal: 11.3s\tremaining: 6.87s\n",
      "311:\tlearn: 0.6559818\ttotal: 11.3s\tremaining: 6.84s\n",
      "312:\tlearn: 0.6559363\ttotal: 11.4s\tremaining: 6.8s\n",
      "313:\tlearn: 0.6558860\ttotal: 11.4s\tremaining: 6.77s\n",
      "314:\tlearn: 0.6558629\ttotal: 11.5s\tremaining: 6.73s\n",
      "315:\tlearn: 0.6558248\ttotal: 11.5s\tremaining: 6.7s\n",
      "316:\tlearn: 0.6557715\ttotal: 11.6s\tremaining: 6.67s\n",
      "317:\tlearn: 0.6557284\ttotal: 11.6s\tremaining: 6.63s\n",
      "318:\tlearn: 0.6556998\ttotal: 11.6s\tremaining: 6.6s\n",
      "319:\tlearn: 0.6556725\ttotal: 11.7s\tremaining: 6.57s\n",
      "320:\tlearn: 0.6556562\ttotal: 11.7s\tremaining: 6.53s\n",
      "321:\tlearn: 0.6556023\ttotal: 11.8s\tremaining: 6.5s\n",
      "322:\tlearn: 0.6555706\ttotal: 11.8s\tremaining: 6.46s\n",
      "323:\tlearn: 0.6555316\ttotal: 11.8s\tremaining: 6.43s\n",
      "324:\tlearn: 0.6555053\ttotal: 11.9s\tremaining: 6.4s\n",
      "325:\tlearn: 0.6554880\ttotal: 11.9s\tremaining: 6.36s\n",
      "326:\tlearn: 0.6554350\ttotal: 12s\tremaining: 6.33s\n",
      "327:\tlearn: 0.6554099\ttotal: 12s\tremaining: 6.3s\n",
      "328:\tlearn: 0.6553919\ttotal: 12.1s\tremaining: 6.26s\n",
      "329:\tlearn: 0.6553461\ttotal: 12.1s\tremaining: 6.23s\n",
      "330:\tlearn: 0.6553247\ttotal: 12.1s\tremaining: 6.2s\n",
      "331:\tlearn: 0.6553005\ttotal: 12.2s\tremaining: 6.16s\n",
      "332:\tlearn: 0.6552767\ttotal: 12.2s\tremaining: 6.13s\n",
      "333:\tlearn: 0.6552363\ttotal: 12.3s\tremaining: 6.09s\n",
      "334:\tlearn: 0.6551941\ttotal: 12.3s\tremaining: 6.06s\n",
      "335:\tlearn: 0.6551755\ttotal: 12.3s\tremaining: 6.03s\n",
      "336:\tlearn: 0.6551605\ttotal: 12.4s\tremaining: 5.99s\n",
      "337:\tlearn: 0.6551407\ttotal: 12.4s\tremaining: 5.96s\n",
      "338:\tlearn: 0.6551164\ttotal: 12.5s\tremaining: 5.92s\n",
      "339:\tlearn: 0.6550889\ttotal: 12.5s\tremaining: 5.89s\n",
      "340:\tlearn: 0.6550697\ttotal: 12.6s\tremaining: 5.86s\n",
      "341:\tlearn: 0.6550479\ttotal: 12.6s\tremaining: 5.82s\n",
      "342:\tlearn: 0.6550030\ttotal: 12.6s\tremaining: 5.79s\n",
      "343:\tlearn: 0.6549699\ttotal: 12.7s\tremaining: 5.75s\n",
      "344:\tlearn: 0.6549246\ttotal: 12.7s\tremaining: 5.72s\n",
      "345:\tlearn: 0.6548944\ttotal: 12.8s\tremaining: 5.68s\n",
      "346:\tlearn: 0.6548570\ttotal: 12.8s\tremaining: 5.65s\n",
      "347:\tlearn: 0.6548321\ttotal: 12.9s\tremaining: 5.61s\n",
      "348:\tlearn: 0.6548155\ttotal: 12.9s\tremaining: 5.58s\n",
      "349:\tlearn: 0.6548067\ttotal: 12.9s\tremaining: 5.54s\n",
      "350:\tlearn: 0.6547862\ttotal: 13s\tremaining: 5.51s\n",
      "351:\tlearn: 0.6547609\ttotal: 13s\tremaining: 5.47s\n",
      "352:\tlearn: 0.6547479\ttotal: 13.1s\tremaining: 5.44s\n",
      "353:\tlearn: 0.6547295\ttotal: 13.1s\tremaining: 5.41s\n",
      "354:\tlearn: 0.6546819\ttotal: 13.1s\tremaining: 5.37s\n",
      "355:\tlearn: 0.6546641\ttotal: 13.2s\tremaining: 5.34s\n",
      "356:\tlearn: 0.6546393\ttotal: 13.2s\tremaining: 5.3s\n",
      "357:\tlearn: 0.6546076\ttotal: 13.3s\tremaining: 5.26s\n",
      "358:\tlearn: 0.6545799\ttotal: 13.3s\tremaining: 5.23s\n",
      "359:\tlearn: 0.6545459\ttotal: 13.4s\tremaining: 5.19s\n",
      "360:\tlearn: 0.6545190\ttotal: 13.4s\tremaining: 5.16s\n",
      "361:\tlearn: 0.6544890\ttotal: 13.4s\tremaining: 5.12s\n",
      "362:\tlearn: 0.6544566\ttotal: 13.5s\tremaining: 5.09s\n",
      "363:\tlearn: 0.6544397\ttotal: 13.5s\tremaining: 5.05s\n",
      "364:\tlearn: 0.6544125\ttotal: 13.6s\tremaining: 5.02s\n",
      "365:\tlearn: 0.6543894\ttotal: 13.6s\tremaining: 4.98s\n",
      "366:\tlearn: 0.6543610\ttotal: 13.7s\tremaining: 4.95s\n",
      "367:\tlearn: 0.6543426\ttotal: 13.7s\tremaining: 4.91s\n",
      "368:\tlearn: 0.6543115\ttotal: 13.7s\tremaining: 4.88s\n",
      "369:\tlearn: 0.6542830\ttotal: 13.8s\tremaining: 4.84s\n",
      "370:\tlearn: 0.6542730\ttotal: 13.8s\tremaining: 4.8s\n",
      "371:\tlearn: 0.6542242\ttotal: 13.9s\tremaining: 4.77s\n",
      "372:\tlearn: 0.6541832\ttotal: 13.9s\tremaining: 4.73s\n",
      "373:\tlearn: 0.6541293\ttotal: 13.9s\tremaining: 4.7s\n",
      "374:\tlearn: 0.6541155\ttotal: 14s\tremaining: 4.67s\n",
      "375:\tlearn: 0.6540930\ttotal: 14s\tremaining: 4.63s\n",
      "376:\tlearn: 0.6540721\ttotal: 14.1s\tremaining: 4.59s\n",
      "377:\tlearn: 0.6540485\ttotal: 14.1s\tremaining: 4.56s\n",
      "378:\tlearn: 0.6540268\ttotal: 14.2s\tremaining: 4.53s\n",
      "379:\tlearn: 0.6540110\ttotal: 14.2s\tremaining: 4.49s\n",
      "380:\tlearn: 0.6540012\ttotal: 14.3s\tremaining: 4.45s\n",
      "381:\tlearn: 0.6539794\ttotal: 14.3s\tremaining: 4.41s\n",
      "382:\tlearn: 0.6539671\ttotal: 14.3s\tremaining: 4.38s\n",
      "383:\tlearn: 0.6539381\ttotal: 14.4s\tremaining: 4.34s\n",
      "384:\tlearn: 0.6539109\ttotal: 14.4s\tremaining: 4.31s\n",
      "385:\tlearn: 0.6538990\ttotal: 14.5s\tremaining: 4.27s\n",
      "386:\tlearn: 0.6538729\ttotal: 14.5s\tremaining: 4.24s\n",
      "387:\tlearn: 0.6538574\ttotal: 14.6s\tremaining: 4.2s\n",
      "388:\tlearn: 0.6538267\ttotal: 14.6s\tremaining: 4.16s\n",
      "389:\tlearn: 0.6538071\ttotal: 14.6s\tremaining: 4.13s\n",
      "390:\tlearn: 0.6537728\ttotal: 14.7s\tremaining: 4.09s\n",
      "391:\tlearn: 0.6537625\ttotal: 14.7s\tremaining: 4.06s\n",
      "392:\tlearn: 0.6537348\ttotal: 14.8s\tremaining: 4.02s\n",
      "393:\tlearn: 0.6537175\ttotal: 14.8s\tremaining: 3.99s\n",
      "394:\tlearn: 0.6536958\ttotal: 14.9s\tremaining: 3.95s\n",
      "395:\tlearn: 0.6536826\ttotal: 14.9s\tremaining: 3.92s\n",
      "396:\tlearn: 0.6536594\ttotal: 15s\tremaining: 3.88s\n",
      "397:\tlearn: 0.6536437\ttotal: 15s\tremaining: 3.84s\n",
      "398:\tlearn: 0.6536041\ttotal: 15.1s\tremaining: 3.81s\n",
      "399:\tlearn: 0.6535859\ttotal: 15.1s\tremaining: 3.77s\n",
      "400:\tlearn: 0.6535606\ttotal: 15.1s\tremaining: 3.74s\n",
      "401:\tlearn: 0.6534983\ttotal: 15.2s\tremaining: 3.7s\n",
      "402:\tlearn: 0.6534700\ttotal: 15.2s\tremaining: 3.67s\n",
      "403:\tlearn: 0.6534501\ttotal: 15.3s\tremaining: 3.63s\n",
      "404:\tlearn: 0.6534229\ttotal: 15.3s\tremaining: 3.6s\n",
      "405:\tlearn: 0.6533832\ttotal: 15.4s\tremaining: 3.56s\n",
      "406:\tlearn: 0.6533454\ttotal: 15.4s\tremaining: 3.52s\n",
      "407:\tlearn: 0.6533246\ttotal: 15.5s\tremaining: 3.49s\n",
      "408:\tlearn: 0.6533026\ttotal: 15.5s\tremaining: 3.45s\n",
      "409:\tlearn: 0.6532700\ttotal: 15.6s\tremaining: 3.42s\n",
      "410:\tlearn: 0.6532297\ttotal: 15.6s\tremaining: 3.38s\n",
      "411:\tlearn: 0.6532223\ttotal: 15.6s\tremaining: 3.34s\n",
      "412:\tlearn: 0.6532039\ttotal: 15.7s\tremaining: 3.31s\n",
      "413:\tlearn: 0.6531754\ttotal: 15.7s\tremaining: 3.27s\n",
      "414:\tlearn: 0.6531553\ttotal: 15.8s\tremaining: 3.23s\n",
      "415:\tlearn: 0.6531386\ttotal: 15.8s\tremaining: 3.2s\n",
      "416:\tlearn: 0.6530923\ttotal: 15.9s\tremaining: 3.16s\n",
      "417:\tlearn: 0.6530694\ttotal: 15.9s\tremaining: 3.12s\n",
      "418:\tlearn: 0.6530391\ttotal: 16s\tremaining: 3.09s\n",
      "419:\tlearn: 0.6530067\ttotal: 16s\tremaining: 3.05s\n",
      "420:\tlearn: 0.6529933\ttotal: 16.1s\tremaining: 3.01s\n",
      "421:\tlearn: 0.6529775\ttotal: 16.1s\tremaining: 2.98s\n",
      "422:\tlearn: 0.6529433\ttotal: 16.2s\tremaining: 2.94s\n",
      "423:\tlearn: 0.6529128\ttotal: 16.2s\tremaining: 2.9s\n",
      "424:\tlearn: 0.6528990\ttotal: 16.2s\tremaining: 2.87s\n",
      "425:\tlearn: 0.6528803\ttotal: 16.3s\tremaining: 2.83s\n",
      "426:\tlearn: 0.6528573\ttotal: 16.3s\tremaining: 2.79s\n",
      "427:\tlearn: 0.6528208\ttotal: 16.4s\tremaining: 2.76s\n",
      "428:\tlearn: 0.6527858\ttotal: 16.4s\tremaining: 2.72s\n",
      "429:\tlearn: 0.6527586\ttotal: 16.5s\tremaining: 2.68s\n",
      "430:\tlearn: 0.6527517\ttotal: 16.5s\tremaining: 2.65s\n",
      "431:\tlearn: 0.6527290\ttotal: 16.6s\tremaining: 2.61s\n",
      "432:\tlearn: 0.6527077\ttotal: 16.6s\tremaining: 2.57s\n",
      "433:\tlearn: 0.6526969\ttotal: 16.7s\tremaining: 2.53s\n",
      "434:\tlearn: 0.6526753\ttotal: 16.7s\tremaining: 2.5s\n",
      "435:\tlearn: 0.6526433\ttotal: 16.8s\tremaining: 2.46s\n",
      "436:\tlearn: 0.6526193\ttotal: 16.8s\tremaining: 2.42s\n",
      "437:\tlearn: 0.6525936\ttotal: 16.8s\tremaining: 2.38s\n",
      "438:\tlearn: 0.6525680\ttotal: 16.9s\tremaining: 2.35s\n",
      "439:\tlearn: 0.6525418\ttotal: 16.9s\tremaining: 2.31s\n",
      "440:\tlearn: 0.6525259\ttotal: 17s\tremaining: 2.27s\n",
      "441:\tlearn: 0.6524989\ttotal: 17s\tremaining: 2.23s\n",
      "442:\tlearn: 0.6524851\ttotal: 17.1s\tremaining: 2.19s\n",
      "443:\tlearn: 0.6524536\ttotal: 17.1s\tremaining: 2.16s\n",
      "444:\tlearn: 0.6524210\ttotal: 17.2s\tremaining: 2.12s\n",
      "445:\tlearn: 0.6524033\ttotal: 17.2s\tremaining: 2.08s\n",
      "446:\tlearn: 0.6523802\ttotal: 17.2s\tremaining: 2.04s\n",
      "447:\tlearn: 0.6523654\ttotal: 17.3s\tremaining: 2.01s\n",
      "448:\tlearn: 0.6523479\ttotal: 17.3s\tremaining: 1.97s\n",
      "449:\tlearn: 0.6523322\ttotal: 17.4s\tremaining: 1.93s\n",
      "450:\tlearn: 0.6523175\ttotal: 17.4s\tremaining: 1.89s\n",
      "451:\tlearn: 0.6523052\ttotal: 17.5s\tremaining: 1.85s\n",
      "452:\tlearn: 0.6522877\ttotal: 17.5s\tremaining: 1.82s\n",
      "453:\tlearn: 0.6522723\ttotal: 17.6s\tremaining: 1.78s\n",
      "454:\tlearn: 0.6522545\ttotal: 17.6s\tremaining: 1.74s\n",
      "455:\tlearn: 0.6522420\ttotal: 17.6s\tremaining: 1.7s\n",
      "456:\tlearn: 0.6522140\ttotal: 17.7s\tremaining: 1.66s\n",
      "457:\tlearn: 0.6521864\ttotal: 17.7s\tremaining: 1.63s\n",
      "458:\tlearn: 0.6521663\ttotal: 17.8s\tremaining: 1.59s\n",
      "459:\tlearn: 0.6521423\ttotal: 17.8s\tremaining: 1.55s\n",
      "460:\tlearn: 0.6521282\ttotal: 17.9s\tremaining: 1.51s\n",
      "461:\tlearn: 0.6521046\ttotal: 17.9s\tremaining: 1.47s\n",
      "462:\tlearn: 0.6520793\ttotal: 18s\tremaining: 1.43s\n",
      "463:\tlearn: 0.6520448\ttotal: 18s\tremaining: 1.4s\n",
      "464:\tlearn: 0.6520323\ttotal: 18s\tremaining: 1.36s\n",
      "465:\tlearn: 0.6520276\ttotal: 18.1s\tremaining: 1.32s\n",
      "466:\tlearn: 0.6519884\ttotal: 18.1s\tremaining: 1.28s\n",
      "467:\tlearn: 0.6519692\ttotal: 18.2s\tremaining: 1.24s\n",
      "468:\tlearn: 0.6519453\ttotal: 18.2s\tremaining: 1.2s\n",
      "469:\tlearn: 0.6519294\ttotal: 18.2s\tremaining: 1.16s\n",
      "470:\tlearn: 0.6519079\ttotal: 18.3s\tremaining: 1.13s\n",
      "471:\tlearn: 0.6518889\ttotal: 18.3s\tremaining: 1.09s\n",
      "472:\tlearn: 0.6518565\ttotal: 18.4s\tremaining: 1.05s\n",
      "473:\tlearn: 0.6518263\ttotal: 18.4s\tremaining: 1.01s\n",
      "474:\tlearn: 0.6518101\ttotal: 18.5s\tremaining: 972ms\n",
      "475:\tlearn: 0.6518033\ttotal: 18.5s\tremaining: 933ms\n",
      "476:\tlearn: 0.6517916\ttotal: 18.6s\tremaining: 894ms\n",
      "477:\tlearn: 0.6517727\ttotal: 18.6s\tremaining: 856ms\n",
      "478:\tlearn: 0.6517501\ttotal: 18.6s\tremaining: 817ms\n",
      "479:\tlearn: 0.6517282\ttotal: 18.7s\tremaining: 778ms\n",
      "480:\tlearn: 0.6517165\ttotal: 18.7s\tremaining: 740ms\n",
      "481:\tlearn: 0.6516975\ttotal: 18.8s\tremaining: 701ms\n",
      "482:\tlearn: 0.6516743\ttotal: 18.8s\tremaining: 662ms\n",
      "483:\tlearn: 0.6516546\ttotal: 18.9s\tremaining: 624ms\n",
      "484:\tlearn: 0.6516336\ttotal: 18.9s\tremaining: 585ms\n",
      "485:\tlearn: 0.6516157\ttotal: 18.9s\tremaining: 546ms\n",
      "486:\tlearn: 0.6516039\ttotal: 19s\tremaining: 507ms\n",
      "487:\tlearn: 0.6515799\ttotal: 19.1s\tremaining: 469ms\n",
      "488:\tlearn: 0.6515610\ttotal: 19.1s\tremaining: 430ms\n",
      "489:\tlearn: 0.6515435\ttotal: 19.1s\tremaining: 391ms\n",
      "490:\tlearn: 0.6515370\ttotal: 19.2s\tremaining: 352ms\n",
      "491:\tlearn: 0.6515230\ttotal: 19.2s\tremaining: 313ms\n",
      "492:\tlearn: 0.6514878\ttotal: 19.3s\tremaining: 274ms\n",
      "493:\tlearn: 0.6514615\ttotal: 19.3s\tremaining: 235ms\n",
      "494:\tlearn: 0.6514294\ttotal: 19.4s\tremaining: 195ms\n",
      "495:\tlearn: 0.6514027\ttotal: 19.4s\tremaining: 156ms\n",
      "496:\tlearn: 0.6513847\ttotal: 19.4s\tremaining: 117ms\n",
      "497:\tlearn: 0.6513493\ttotal: 19.5s\tremaining: 78.3ms\n",
      "498:\tlearn: 0.6513277\ttotal: 19.6s\tremaining: 39.2ms\n",
      "499:\tlearn: 0.6513099\ttotal: 19.6s\tremaining: 0us\n",
      "Скор наилучший:  0.6918926076171376\n",
      "Лучшие параметры:  {'n_estimators': 500, 'max_depth': 10}\n"
     ]
    }
   ],
   "source": [
    "params = {'n_estimators' : [300, 500, 700],\n",
    "          'max_depth': np.arange(10, 12, 16),\n",
    "          }\n",
    "rs = RandomizedSearchCV(cbc, params, cv=skf, scoring='f1', n_jobs=-1, error_score='raise') # для выбора параметров испольуем F-меру\n",
    "rs.fit(x_train, y_train)\n",
    "print('Скор наилучший: ', rs.best_score_)\n",
    "print('Лучшие параметры: ', rs.best_params_)"
   ]
  },
  {
   "cell_type": "code",
   "execution_count": 43,
   "id": "8fd7d693-b6d2-4c6c-82ef-a85e87069c1a",
   "metadata": {
    "tags": []
   },
   "outputs": [
    {
     "data": {
      "text/plain": [
       "{}"
      ]
     },
     "execution_count": 43,
     "metadata": {},
     "output_type": "execute_result"
    }
   ],
   "source": [
    "cbc.best_score_"
   ]
  },
  {
   "cell_type": "markdown",
   "id": "4df86401-4932-4ffa-8803-c7028772e080",
   "metadata": {
    "jp-MarkdownHeadingCollapsed": true,
    "tags": []
   },
   "source": [
    "#### Градиентный бустинг"
   ]
  },
  {
   "cell_type": "code",
   "execution_count": null,
   "id": "2602345d-e1f6-4bb7-a523-47bff67c46ad",
   "metadata": {
    "tags": []
   },
   "outputs": [],
   "source": [
    "gbc = GradientBoostingClassifier()\n"
   ]
  },
  {
   "cell_type": "code",
   "execution_count": null,
   "id": "fa3d253e-9517-40f0-b5f9-be3fbcfdc996",
   "metadata": {
    "tags": []
   },
   "outputs": [],
   "source": [
    "params = {\"loss\":[\"log_loss\", \"exponential\"],\n",
    "          \"learning_rate\": [0.01,0.1,1,10,100],\n",
    "          'max_depth': np.arange(2, 60, 4),\n",
    "          'max_features': ['sqrt', 'log2', None],\n",
    "          'min_samples_leaf': np.arange(1, 10, 1),\n",
    "          'min_samples_split': np.arange(2, 20, 2),\n",
    "          \"max_features\":[\"log2\",\"sqrt\"],\n",
    "          \"criterion\": [\"friedman_mse\",  \"squared_error\"],\n",
    "          \"subsample\":np.arange(0.1, 1, 0.1),\n",
    "          \"n_estimators\":[100, 300, 500]}\n",
    "rscv = RandomizedSearchCV(gbc, params, cv=skf, scoring='f1', n_jobs=-1, error_score='raise')\n",
    "rscv.fit(x_train, y_train)\n",
    "print('Скор наилучший: ', rscv.best_score_)\n",
    "print('Лучшие параметры: ', rscv.best_params_)"
   ]
  },
  {
   "cell_type": "markdown",
   "id": "3df11321-d61c-4de8-a653-f489ac4112b0",
   "metadata": {},
   "source": [
    "### Модель"
   ]
  },
  {
   "cell_type": "code",
   "execution_count": 9,
   "id": "a299da20-9105-43fb-81f5-36bde6959225",
   "metadata": {
    "tags": []
   },
   "outputs": [
    {
     "ename": "NameError",
     "evalue": "name 'x_train' is not defined",
     "output_type": "error",
     "traceback": [
      "\u001b[1;31m---------------------------------------------------------------------------\u001b[0m",
      "\u001b[1;31mNameError\u001b[0m                                 Traceback (most recent call last)",
      "Cell \u001b[1;32mIn[9], line 3\u001b[0m\n\u001b[0;32m      1\u001b[0m model \u001b[38;5;241m=\u001b[39m GradientBoostingClassifier(subsample\u001b[38;5;241m=\u001b[39m \u001b[38;5;241m0.1\u001b[39m, n_estimators \u001b[38;5;241m=\u001b[39m \u001b[38;5;241m100\u001b[39m, min_samples_split\u001b[38;5;241m=\u001b[39m \u001b[38;5;241m18\u001b[39m, min_samples_leaf \u001b[38;5;241m=\u001b[39m \u001b[38;5;241m7\u001b[39m, max_features \u001b[38;5;241m=\u001b[39m \u001b[38;5;124m'\u001b[39m\u001b[38;5;124msqrt\u001b[39m\u001b[38;5;124m'\u001b[39m, \n\u001b[0;32m      2\u001b[0m                                    max_depth \u001b[38;5;241m=\u001b[39m \u001b[38;5;241m58\u001b[39m, loss \u001b[38;5;241m=\u001b[39m \u001b[38;5;124m'\u001b[39m\u001b[38;5;124mlog_loss\u001b[39m\u001b[38;5;124m'\u001b[39m, learning_rate \u001b[38;5;241m=\u001b[39m \u001b[38;5;241m0.01\u001b[39m, criterion \u001b[38;5;241m=\u001b[39m  \u001b[38;5;124m'\u001b[39m\u001b[38;5;124mfriedman_mse\u001b[39m\u001b[38;5;124m'\u001b[39m)\n\u001b[1;32m----> 3\u001b[0m model\u001b[38;5;241m.\u001b[39mfit(x_train, y_train)\n",
      "\u001b[1;31mNameError\u001b[0m: name 'x_train' is not defined"
     ]
    }
   ],
   "source": [
    "model = GradientBoostingClassifier(subsample= 0.1, n_estimators = 100, min_samples_split= 18, min_samples_leaf = 7, max_features = 'sqrt', \n",
    "                                   max_depth = 58, loss = 'log_loss', learning_rate = 0.01, criterion =  'friedman_mse')\n",
    "model.fit(x_train, y_train)\n"
   ]
  },
  {
   "cell_type": "code",
   "execution_count": null,
   "id": "5af16ac1-8370-4919-a924-b76442d1f18b",
   "metadata": {
    "tags": []
   },
   "outputs": [],
   "source": [
    "predicted_train_GBC = model.predict(x_train)\n",
    "predicted_test_gBC = model.predict(x_test)\n"
   ]
  },
  {
   "cell_type": "code",
   "execution_count": null,
   "id": "395e77a3-5d38-443b-b755-ec269e0b7637",
   "metadata": {
    "tags": []
   },
   "outputs": [],
   "source": [
    "df_personal_test['gender'] = predicted_test_gBC "
   ]
  },
  {
   "cell_type": "code",
   "execution_count": 10,
   "id": "2974d790-81dc-4e77-8dc4-2264fe5a639b",
   "metadata": {
    "tags": []
   },
   "outputs": [
    {
     "ename": "NameError",
     "evalue": "name 'df_personal_test' is not defined",
     "output_type": "error",
     "traceback": [
      "\u001b[1;31m---------------------------------------------------------------------------\u001b[0m",
      "\u001b[1;31mNameError\u001b[0m                                 Traceback (most recent call last)",
      "Cell \u001b[1;32mIn[10], line 2\u001b[0m\n\u001b[0;32m      1\u001b[0m header \u001b[38;5;241m=\u001b[39m [\u001b[38;5;124m\"\u001b[39m\u001b[38;5;124mid\u001b[39m\u001b[38;5;124m\"\u001b[39m,\u001b[38;5;124m\"\u001b[39m\u001b[38;5;124mgender\u001b[39m\u001b[38;5;124m\"\u001b[39m]\n\u001b[1;32m----> 2\u001b[0m df_personal_test\u001b[38;5;241m.\u001b[39mto_csv(\u001b[38;5;124m'\u001b[39m\u001b[38;5;124mtest.csv\u001b[39m\u001b[38;5;124m'\u001b[39m,  columns \u001b[38;5;241m=\u001b[39m header, index\u001b[38;5;241m=\u001b[39m\u001b[38;5;28;01mFalse\u001b[39;00m)\n",
      "\u001b[1;31mNameError\u001b[0m: name 'df_personal_test' is not defined"
     ]
    }
   ],
   "source": [
    "header = [\"id\",\"gender\"]\n",
    "df_personal_test.to_csv('test.csv',  columns = header, index=False)"
   ]
  },
  {
   "cell_type": "code",
   "execution_count": 15,
   "id": "7d1d757c-1006-4ee6-9c78-f39087d4f121",
   "metadata": {
    "tags": []
   },
   "outputs": [
    {
     "ename": "NameError",
     "evalue": "name 'df_personal_test' is not defined",
     "output_type": "error",
     "traceback": [
      "\u001b[1;31m---------------------------------------------------------------------------\u001b[0m",
      "\u001b[1;31mNameError\u001b[0m                                 Traceback (most recent call last)",
      "Cell \u001b[1;32mIn[15], line 1\u001b[0m\n\u001b[1;32m----> 1\u001b[0m df_personal_ \u001b[38;5;241m=\u001b[39m pd\u001b[38;5;241m.\u001b[39mconcat([df_personal_test, df_personal_train])\n",
      "\u001b[1;31mNameError\u001b[0m: name 'df_personal_test' is not defined"
     ]
    }
   ],
   "source": [
    "df_personal_ = pd.concat([df_personal_test, df_personal_train])"
   ]
  },
  {
   "cell_type": "code",
   "execution_count": 35,
   "id": "bac3835c-51a8-47c9-b84a-c72fb8d12532",
   "metadata": {
    "tags": []
   },
   "outputs": [],
   "source": [
    "df_personal_ = df_personal_[df_personal_.country == 32]"
   ]
  },
  {
   "cell_type": "code",
   "execution_count": 42,
   "id": "e9a3d168-8e65-4ec8-998c-2b18cccb9bb9",
   "metadata": {
    "tags": []
   },
   "outputs": [
    {
     "name": "stdout",
     "output_type": "stream",
     "text": [
      "<class 'pandas.core.frame.DataFrame'>\n",
      "Index: 104437 entries, 89241 to 89240\n",
      "Data columns (total 7 columns):\n",
      " #   Column         Non-Null Count   Dtype  \n",
      "---  ------         --------------   -----  \n",
      " 0   id             104437 non-null  int64  \n",
      " 1   personal_coef  104437 non-null  float64\n",
      " 2   age            104437 non-null  float64\n",
      " 3   gender         104437 non-null  float64\n",
      " 4   education      104437 non-null  int32  \n",
      " 5   city           104437 non-null  float64\n",
      " 6   country        104437 non-null  float64\n",
      "dtypes: float64(5), int32(1), int64(1)\n",
      "memory usage: 6.0 MB\n"
     ]
    }
   ],
   "source": [
    "df_personal_.info()"
   ]
  },
  {
   "cell_type": "markdown",
   "id": "89b09be9-0eb2-498b-8a73-d5970f6d0f1e",
   "metadata": {
    "tags": []
   },
   "source": [
    "## Работа с df_shop"
   ]
  },
  {
   "cell_type": "code",
   "execution_count": 31,
   "id": "f0fd5c14-ed43-42c5-a69d-8657b88a67c4",
   "metadata": {
    "tags": []
   },
   "outputs": [
    {
     "name": "stdout",
     "output_type": "stream",
     "text": [
      "<class 'pandas.core.frame.DataFrame'>\n",
      "RangeIndex: 786260 entries, 0 to 786259\n",
      "Data columns (total 7 columns):\n",
      " #   Column       Non-Null Count   Dtype  \n",
      "---  ------       --------------   -----  \n",
      " 0   id           786260 non-null  int64  \n",
      " 1   product      786260 non-null  object \n",
      " 2   colour       666736 non-null  object \n",
      " 3   cost         786260 non-null  int64  \n",
      " 4   product_sex  471548 non-null  float64\n",
      " 5   base_sale    786260 non-null  int64  \n",
      " 6   dt           786260 non-null  int64  \n",
      "dtypes: float64(1), int64(4), object(2)\n",
      "memory usage: 42.0+ MB\n"
     ]
    }
   ],
   "source": [
    "df_shop.info()"
   ]
  },
  {
   "cell_type": "code",
   "execution_count": null,
   "id": "0f2091ab-008b-4288-85e4-e633eb9b24b1",
   "metadata": {},
   "outputs": [],
   "source": [
    "df_shop."
   ]
  },
  {
   "cell_type": "code",
   "execution_count": 47,
   "id": "53885c5c-8afd-4dff-aac5-a0cd2658cecb",
   "metadata": {
    "tags": []
   },
   "outputs": [],
   "source": [
    "def print_useful_rows_info(df): \n",
    "    \n",
    "    print(\"Количество полностью заполненных объектов из всей выборки:\", len(df.dropna()))\n",
    "    print(\"Процент полностью заполненных объектов из всей выборки:\", round(len(df.dropna()) / len(df) * 100, 2))\n"
   ]
  },
  {
   "cell_type": "code",
   "execution_count": 49,
   "id": "78a13578-4b4e-41fa-b383-9cc38be2bcde",
   "metadata": {
    "tags": []
   },
   "outputs": [
    {
     "name": "stdout",
     "output_type": "stream",
     "text": [
      "Количество полностью заполненных объектов из всей выборки: 394887\n",
      "Процент полностью заполненных объектов из всей выборки: 50.22\n"
     ]
    }
   ],
   "source": [
    "print_useful_rows_info(df_shop)"
   ]
  },
  {
   "cell_type": "code",
   "execution_count": 50,
   "id": "52ae6320-8b1e-4644-86b9-68374ec271c9",
   "metadata": {
    "tags": []
   },
   "outputs": [
    {
     "data": {
      "text/plain": [
       "product_sex    40.026454\n",
       "colour         15.201587\n",
       "id              0.000000\n",
       "product         0.000000\n",
       "cost            0.000000\n",
       "base_sale       0.000000\n",
       "dt              0.000000\n",
       "dtype: float64"
      ]
     },
     "execution_count": 50,
     "metadata": {},
     "output_type": "execute_result"
    }
   ],
   "source": [
    "missing_values = ((df_shop.isna().sum() / len(df_shop)) * 100).sort_values(ascending=False) # Получаем список пропущенных колонок\n",
    "missing_values"
   ]
  },
  {
   "cell_type": "markdown",
   "id": "a30f365d-3beb-40ac-a625-2ea7738f1dde",
   "metadata": {},
   "source": [
    "#### product"
   ]
  },
  {
   "cell_type": "code",
   "execution_count": 52,
   "id": "3313c68b-9074-49fc-a065-f05d0496cb28",
   "metadata": {
    "tags": []
   },
   "outputs": [],
   "source": [
    "df_shop['product'] = df_shop['product'].str.lower() "
   ]
  },
  {
   "cell_type": "code",
   "execution_count": 53,
   "id": "8a02d503-f1a7-4b53-bb40-0c88d2af5f33",
   "metadata": {},
   "outputs": [],
   "source": [
    "df_shop['product'] = df_shop['product'].str.split().str.get(0)"
   ]
  },
  {
   "cell_type": "markdown",
   "id": "17e84fa8-f126-4b7f-b4e6-b26ccc4a97d4",
   "metadata": {},
   "source": [
    "#### product_sex "
   ]
  },
  {
   "cell_type": "code",
   "execution_count": 55,
   "id": "fb54cd14-ad0c-42a9-90bc-98f6709c2f5c",
   "metadata": {
    "tags": []
   },
   "outputs": [],
   "source": [
    "df_shop['product_sex'] = df_shop['product_sex'].fillna(2)"
   ]
  },
  {
   "cell_type": "markdown",
   "id": "55b89667-f50d-4bf6-b9e8-e54e5f0c0511",
   "metadata": {
    "tags": []
   },
   "source": [
    "### colour"
   ]
  },
  {
   "cell_type": "code",
   "execution_count": 57,
   "id": "93d63617-2927-44b7-ac5a-34d1d18f790e",
   "metadata": {
    "tags": []
   },
   "outputs": [],
   "source": [
    "df_shop['colour'] = df_shop['colour'].fillna('other')"
   ]
  },
  {
   "cell_type": "code",
   "execution_count": 59,
   "id": "535a9194-98c1-49e0-97d9-5f003942817f",
   "metadata": {
    "tags": []
   },
   "outputs": [],
   "source": [
    "df_shop['product'] = df_shop['product'].apply(lambda x: \" \".join(re.findall('[А-Яа-я]{3,20}', x)).lower())"
   ]
  },
  {
   "cell_type": "code",
   "execution_count": 60,
   "id": "1a2b8429-3459-4590-8da1-d94439afdb7a",
   "metadata": {
    "tags": []
   },
   "outputs": [],
   "source": [
    "df_shop['colour'] = df_shop['colour'].replace(['чёрный'], 'черный')\n",
    "df_shop['colour'] = df_shop['colour'].replace(['зелёный'], 'зеленый')"
   ]
  },
  {
   "cell_type": "code",
   "execution_count": 61,
   "id": "70804e9b-ef0d-4225-89a3-9facda23caf7",
   "metadata": {
    "tags": []
   },
   "outputs": [
    {
     "name": "stdout",
     "output_type": "stream",
     "text": [
      "<class 'pandas.core.frame.DataFrame'>\n",
      "RangeIndex: 786260 entries, 0 to 786259\n",
      "Data columns (total 7 columns):\n",
      " #   Column       Non-Null Count   Dtype  \n",
      "---  ------       --------------   -----  \n",
      " 0   id           786260 non-null  int64  \n",
      " 1   product      786260 non-null  object \n",
      " 2   colour       786260 non-null  object \n",
      " 3   cost         786260 non-null  int64  \n",
      " 4   product_sex  786260 non-null  float64\n",
      " 5   base_sale    786260 non-null  int64  \n",
      " 6   dt           786260 non-null  int64  \n",
      "dtypes: float64(1), int64(4), object(2)\n",
      "memory usage: 42.0+ MB\n"
     ]
    }
   ],
   "source": [
    "df_shop.info()"
   ]
  },
  {
   "cell_type": "markdown",
   "id": "2c13f59b-86ce-4e45-a40b-6e0c2bf41c53",
   "metadata": {
    "tags": []
   },
   "source": [
    "## Объединение df"
   ]
  },
  {
   "cell_type": "code",
   "execution_count": 65,
   "id": "79667ff4-883f-4f39-8839-872ca2970bf2",
   "metadata": {
    "tags": []
   },
   "outputs": [],
   "source": [
    "df_all = df_personal_.merge(df_shop, how= \"inner\", on= 'id')"
   ]
  },
  {
   "cell_type": "code",
   "execution_count": 66,
   "id": "3f3fa64b-3dbb-4f3f-a39d-28b8fceb4c28",
   "metadata": {
    "tags": []
   },
   "outputs": [],
   "source": [
    "df_all =df_all[df_all.country == 32]"
   ]
  },
  {
   "cell_type": "code",
   "execution_count": null,
   "id": "cb42e7c5-0bc9-42f8-a6ca-00536818ebfc",
   "metadata": {},
   "outputs": [],
   "source": []
  },
  {
   "cell_type": "markdown",
   "id": "3e975062-a9b7-48bd-8f39-153ddae79505",
   "metadata": {
    "jp-MarkdownHeadingCollapsed": true,
    "tags": []
   },
   "source": [
    "## А/В Тестирование"
   ]
  },
  {
   "cell_type": "markdown",
   "id": "8f6b4724-aee8-4dd4-b860-7aec81644e12",
   "metadata": {},
   "source": [
    "Выбираем три кретерия для A/B тестирования: 1) средняя выручка 2) средний чек 3) количество покупок."
   ]
  },
  {
   "cell_type": "markdown",
   "id": "f2425624-2497-4cfc-86e8-b4bfadbfb6b1",
   "metadata": {},
   "source": [
    "1) Нулевая гипотеза: **Средняя выручка** клиента в тестовой и контрольной группе **не имеет** статистически значимой разницы.\n",
    "2) Альтернативная гипотеза: **Средняя выручка** клиента в тестовой и контрольной группе **имеет** статистически значимимую разницу."
   ]
  },
  {
   "cell_type": "markdown",
   "id": "d2c3aca1-3013-44c5-ae4e-69b130140ce4",
   "metadata": {
    "tags": []
   },
   "source": [
    "1) Нулевая гипотеза: **Средний чек** клиента в тестовой и контрольной группе **не имеет** статистически значимой разницы.\n",
    "2) Альтернативная гипотеза: **Средний чек** клиента в тестовой и контрольной группе **имеет** статистически значимую разницу."
   ]
  },
  {
   "cell_type": "markdown",
   "id": "83eff8fa-8255-43f9-960f-fafbd761c806",
   "metadata": {},
   "source": [
    "1) Нулевая гипотеза: **Количество купленных товаров** у клиента в тестовой и контрольной группе **не имеет** статистически значимой разницы.\n",
    "2) Альтернативная гипотеза: **Количество купленных товаров** у клиента в тестовой и контрольной группе **имеет** статистически значимую разницы."
   ]
  },
  {
   "cell_type": "markdown",
   "id": "15a7ff82-4755-49cf-93a7-45a5a4dbe27c",
   "metadata": {
    "tags": []
   },
   "source": [
    "#### Загрузка данных A/В Теста"
   ]
  },
  {
   "cell_type": "code",
   "execution_count": 80,
   "id": "a5a81cca-3554-47bb-a4df-2a287833c0b6",
   "metadata": {},
   "outputs": [],
   "source": [
    "with open('data/result_data/ids_first_company_positive.txt') as f:\n",
    "    positive = f.read()\n",
    "elem_list = re.split(';|,| ', positive)\n",
    "positive = []\n",
    "for i in elem_list:\n",
    "    if i.isdigit():\n",
    "        positive.append(int(i))\n",
    "with open('data/result_data/ids_first_company_negative.txt') as f:\n",
    "    negative = f.read()\n",
    "elem_list = re.split(';|,| ', negative)\n",
    "negative = []\n",
    "for i in elem_list:\n",
    "    if i.isdigit():\n",
    "        negative.append(int(i))"
   ]
  },
  {
   "cell_type": "markdown",
   "id": "5c78ff71-5c6f-4b22-a663-53e664b76ff6",
   "metadata": {
    "tags": []
   },
   "source": [
    "#### Формирование новых фичей для гипотез "
   ]
  },
  {
   "cell_type": "code",
   "execution_count": 82,
   "id": "4d5d84c2-9aed-4ed8-850e-178caa038bc5",
   "metadata": {},
   "outputs": [],
   "source": [
    "# Первая кампания проводилась в период с 5-го по 16-й день, ID участвовавших в ней пользователей содержатся в файле\n",
    "df_data = df_all[(df_all['dt'] >= 5) & (df_all['dt'] < 17)]"
   ]
  },
  {
   "cell_type": "code",
   "execution_count": null,
   "id": "fb5c4b44-a63f-4b79-90cf-dc68a3acc414",
   "metadata": {},
   "outputs": [],
   "source": []
  },
  {
   "cell_type": "markdown",
   "id": "0827c7ae-1df0-4fc1-9fb7-c02fcf8c2855",
   "metadata": {
    "tags": []
   },
   "source": [
    "#### Гипотеза 1"
   ]
  },
  {
   "cell_type": "markdown",
   "id": "181c05dd-6b11-4e9f-abda-3f6577d2b956",
   "metadata": {},
   "source": [
    "1) Нулевая гипотеза: **Средняя выручка** клиента в тестовой и контрольной группе **не имеет** статистически значимой разницы.\n",
    "2) Альтернативная гипотеза: **Средняя выручка** клиента в тестовой и контрольной группе **имеет** статистически значимимую разницу."
   ]
  },
  {
   "cell_type": "code",
   "execution_count": 88,
   "id": "d347c945-4d0f-4af7-844f-c2f1b8820e6a",
   "metadata": {},
   "outputs": [],
   "source": [
    "# Выручка на одного клиента\n",
    "df_hyp_1 = df_data.groupby('id', as_index=False).agg({'cost':'sum'})"
   ]
  },
  {
   "cell_type": "code",
   "execution_count": 91,
   "id": "b3f6f1b8-b2c6-4f55-9554-3b7e597042f5",
   "metadata": {
    "tags": []
   },
   "outputs": [],
   "source": [
    "# Тестовая группа\n",
    "positive_g = df_hyp_1.loc[df_hyp_1['id'].isin(positive), :]"
   ]
  },
  {
   "cell_type": "code",
   "execution_count": 92,
   "id": "4a1a6bef-358a-48cb-b60e-3c6123dbb079",
   "metadata": {
    "tags": []
   },
   "outputs": [],
   "source": [
    "# Контррольная группа\n",
    "negative_g = df_hyp_1.loc[df_hyp_1['id'].isin(negative), :]"
   ]
  },
  {
   "cell_type": "code",
   "execution_count": 93,
   "id": "e16df8f9-c42c-4297-b27f-62167f4c22c2",
   "metadata": {
    "tags": []
   },
   "outputs": [
    {
     "name": "stdout",
     "output_type": "stream",
     "text": [
      "ShapiroResult(statistic=0.5352928638458252, pvalue=0.0)\n",
      "ShapiroResult(statistic=0.4731825590133667, pvalue=0.0)\n"
     ]
    }
   ],
   "source": [
    "# Проверяем распределение групп\n",
    "print(stats.shapiro(positive_g['cost']))\n",
    "print(stats.shapiro(negative_g['cost']))\n"
   ]
  },
  {
   "cell_type": "markdown",
   "id": "d5f29e5f-6902-4d6a-b9dd-05f9e334fd89",
   "metadata": {},
   "source": [
    "##### Тест Манна-Уитни для проверки гипотезы"
   ]
  },
  {
   "cell_type": "code",
   "execution_count": 96,
   "id": "a36e9e56-1214-47d0-959f-6aae4ae3aadc",
   "metadata": {
    "tags": []
   },
   "outputs": [
    {
     "name": "stdout",
     "output_type": "stream",
     "text": [
      "MannwhitneyuResult(statistic=13468819.5, pvalue=1.5179477947167395e-39)\n"
     ]
    }
   ],
   "source": [
    "# Распределения независимы\n",
    "# Тест шапиро больше показал P-value больше порога значимости в 5% делаем вывод что распределение не нармальное\n",
    "man = stats.mannwhitneyu(positive_g['cost'], negative_g['cost'])\n",
    "print(man)"
   ]
  },
  {
   "cell_type": "markdown",
   "id": "e9379aba-80c4-4b0c-9d74-8806bf0726ad",
   "metadata": {},
   "source": [
    "Тест показал **P-value меньше 5%**, значит можно сделать вывод что есть статистическая разница между группами. И мы принимаем **альтернативную гипотезу**"
   ]
  },
  {
   "cell_type": "markdown",
   "id": "47cd122b-0d4e-4875-9113-c029d9f60fa0",
   "metadata": {},
   "source": [
    "##### График распределений"
   ]
  },
  {
   "cell_type": "code",
   "execution_count": 99,
   "id": "b2ce89d4-e767-43e1-9a6b-e42d903fdd5e",
   "metadata": {},
   "outputs": [],
   "source": [
    "test= np.std(positive_g['cost']) / np.sqrt(len(positive_g['cost']))\n",
    "control = np.std(negative_g['cost']) / np.sqrt(len(negative_g['cost']))\n"
   ]
  },
  {
   "cell_type": "code",
   "execution_count": 146,
   "id": "0f49a87c-4ecb-41ed-a460-eb22bc2b01c4",
   "metadata": {
    "tags": []
   },
   "outputs": [
    {
     "data": {
      "text/plain": [
       "27823.02446741194"
      ]
     },
     "execution_count": 146,
     "metadata": {},
     "output_type": "execute_result"
    }
   ],
   "source": [
    "positive_g['cost'].mean()"
   ]
  },
  {
   "cell_type": "code",
   "execution_count": 148,
   "id": "acc97c57-0c54-4a8f-a6b0-ff88e2e752ee",
   "metadata": {
    "tags": []
   },
   "outputs": [
    {
     "data": {
      "text/plain": [
       "22451.607803292012"
      ]
     },
     "execution_count": 148,
     "metadata": {},
     "output_type": "execute_result"
    }
   ],
   "source": [
    "negative_g['cost'].mean()"
   ]
  },
  {
   "cell_type": "code",
   "execution_count": 100,
   "id": "eb5b3e35-329e-4f23-833a-571ccabf3456",
   "metadata": {},
   "outputs": [
    {
     "name": "stderr",
     "output_type": "stream",
     "text": [
      "C:\\Users\\1\\AppData\\Local\\Temp\\ipykernel_25116\\90306236.py:2: FutureWarning: \n",
      "\n",
      "Passing `palette` without assigning `hue` is deprecated and will be removed in v0.14.0. Assign the `x` variable to `hue` and set `legend=False` for the same effect.\n",
      "\n",
      "  sns.barplot(x = ['тестовая', 'контрольная'], y = [positive_g['cost'].mean(),\n"
     ]
    },
    {
     "data": {
      "image/png": "[encoded data removed]",
      "text/plain": [
       "<Figure size 640x480 with 1 Axes>"
      ]
     },
     "metadata": {},
     "output_type": "display_data"
    }
   ],
   "source": [
    "fig,ax = plt.subplots()\n",
    "sns.barplot(x = ['тестовая', 'контрольная'], y = [positive_g['cost'].mean(),\n",
    "                                                  negative_g['cost'].mean()],\n",
    "                                                  palette=['Green','#005AAB'])\n",
    "ax.bar_label(ax.containers[0], fontsize=12, label_type='center', color='white', fmt='%.0f')\n",
    "ax.set_title('Средняя выручка')\n",
    "ax.set(xlabel='Группа', ylabel='Выручка',  ylim=(19000, 30000));\n",
    "\n"
   ]
  },
  {
   "cell_type": "markdown",
   "id": "472c8077-9fbd-4407-9c7b-3238544bbcd3",
   "metadata": {
    "tags": []
   },
   "source": [
    "### 2 Гипотеза"
   ]
  },
  {
   "cell_type": "markdown",
   "id": "4a8dba45-8132-44dd-b74a-3f0d8176850d",
   "metadata": {
    "tags": []
   },
   "source": [
    "1) Нулевая гипотеза: **Средний чек** клиента в тестовой и контрольной группе **не имеет** статистически значимой разницы.\n",
    "2) Альтернативная гипотеза: **Средний чек** клиента в тестовой и контрольной группе **имеет** статистически значимую разницу."
   ]
  },
  {
   "cell_type": "code",
   "execution_count": 109,
   "id": "f0f5b6cb-f890-45d3-8550-8ddceb8aa1ff",
   "metadata": {
    "tags": []
   },
   "outputs": [],
   "source": [
    "# Средний чек \n",
    "df_hyp_2 = df_data.groupby(['id', 'dt'], as_index=False).agg({'cost':'sum'})"
   ]
  },
  {
   "cell_type": "code",
   "execution_count": 110,
   "id": "2af5b28f-070a-4b5f-8f1a-2bceaea349e9",
   "metadata": {
    "tags": []
   },
   "outputs": [],
   "source": [
    "# Тестовая группа\n",
    "positive_g_2 = df_hyp_2.loc[df_hyp_2['id'].isin(positive), :]"
   ]
  },
  {
   "cell_type": "code",
   "execution_count": 112,
   "id": "d8cfd2d8-d18b-41a3-bc3f-77858e253c3e",
   "metadata": {
    "tags": []
   },
   "outputs": [],
   "source": [
    "# Контррольная группа\n",
    "negative_g_2 = df_hyp_2.loc[df_hyp_2['id'].isin(negative), :]"
   ]
  },
  {
   "cell_type": "code",
   "execution_count": 114,
   "id": "2c1d705b-679d-43e9-823a-09818b0ab857",
   "metadata": {
    "tags": []
   },
   "outputs": [
    {
     "name": "stdout",
     "output_type": "stream",
     "text": [
      "ShapiroResult(statistic=0.5642776489257812, pvalue=0.0)\n",
      "ShapiroResult(statistic=0.5190801620483398, pvalue=0.0)\n"
     ]
    },
    {
     "name": "stderr",
     "output_type": "stream",
     "text": [
      "C:\\Users\\1\\anaconda3\\Lib\\site-packages\\scipy\\stats\\_morestats.py:1882: UserWarning: p-value may not be accurate for N > 5000.\n",
      "  warnings.warn(\"p-value may not be accurate for N > 5000.\")\n"
     ]
    }
   ],
   "source": [
    "# Проверяем распределение групп\n",
    "print(stats.shapiro(positive_g_2['cost']))\n",
    "print(stats.shapiro(negative_g_2['cost']))"
   ]
  },
  {
   "cell_type": "markdown",
   "id": "8d994041-2f03-494d-ab59-5c36ed863077",
   "metadata": {},
   "source": [
    "##### Тест Манна-Уитни для проверки гипотезы"
   ]
  },
  {
   "cell_type": "code",
   "execution_count": 118,
   "id": "f3ba39cf-0c7d-415a-9052-1e70106783ed",
   "metadata": {
    "tags": []
   },
   "outputs": [
    {
     "name": "stdout",
     "output_type": "stream",
     "text": [
      "MannwhitneyuResult(statistic=71743457.0, pvalue=2.4484687354758497e-10)\n"
     ]
    }
   ],
   "source": [
    "# Распределения независимы\n",
    "# Тест шапиро больше показал P-value больше порога значимости в 5% делаем вывод что распределение не нармальное\n",
    "man = stats.mannwhitneyu(positive_g_2['cost'], negative_g_2['cost'])\n",
    "print(man)"
   ]
  },
  {
   "cell_type": "markdown",
   "id": "cb2a92f8-0eca-4b42-b206-8c355f5f3f2b",
   "metadata": {},
   "source": [
    "Тест показал **P-value меньше 5%**, значит можно сделать вывод что есть статистическая разница между группами. И мы принимаем **альтернативную гипотезу**"
   ]
  },
  {
   "cell_type": "markdown",
   "id": "0c627bc1-9422-4d07-a5ca-11cd6a54dcde",
   "metadata": {
    "tags": []
   },
   "source": [
    "##### График распределений"
   ]
  },
  {
   "cell_type": "code",
   "execution_count": 122,
   "id": "822d68e0-b564-4de7-b599-60df55583252",
   "metadata": {
    "tags": []
   },
   "outputs": [],
   "source": [
    "test_2= np.std(positive_g_2['cost']) / np.sqrt(len(positive_g_2['cost']))\n",
    "control_2 = np.std(negative_g_2['cost']) / np.sqrt(len(negative_g_2['cost']))"
   ]
  },
  {
   "cell_type": "code",
   "execution_count": 152,
   "id": "a23e327c-7cfb-49dc-96ba-3f7323618fb5",
   "metadata": {
    "tags": []
   },
   "outputs": [
    {
     "data": {
      "text/plain": [
       "10580.649635036496"
      ]
     },
     "execution_count": 152,
     "metadata": {},
     "output_type": "execute_result"
    }
   ],
   "source": [
    "positive_g_2['cost'].mean()"
   ]
  },
  {
   "cell_type": "code",
   "execution_count": 154,
   "id": "17658389-298d-43e5-8509-94473f1195b3",
   "metadata": {
    "tags": []
   },
   "outputs": [
    {
     "data": {
      "text/plain": [
       "10058.663692643846"
      ]
     },
     "execution_count": 154,
     "metadata": {},
     "output_type": "execute_result"
    }
   ],
   "source": [
    "negative_g_2['cost'].mean()"
   ]
  },
  {
   "cell_type": "code",
   "execution_count": 123,
   "id": "8511d687-61d6-471d-9969-7c063c48fc98",
   "metadata": {
    "tags": []
   },
   "outputs": [
    {
     "name": "stderr",
     "output_type": "stream",
     "text": [
      "C:\\Users\\1\\AppData\\Local\\Temp\\ipykernel_25116\\2003382618.py:2: FutureWarning: \n",
      "\n",
      "Passing `palette` without assigning `hue` is deprecated and will be removed in v0.14.0. Assign the `x` variable to `hue` and set `legend=False` for the same effect.\n",
      "\n",
      "  sns.barplot(x = ['тестовая', 'контрольная'], y = [positive_g_2['cost'].mean(),\n"
     ]
    },
    {
     "data": {
      "image/png": "[encoded data removed]",
      "text/plain": [
       "<Figure size 640x480 with 1 Axes>"
      ]
     },
     "metadata": {},
     "output_type": "display_data"
    }
   ],
   "source": [
    "fig,ax = plt.subplots()\n",
    "sns.barplot(x = ['тестовая', 'контрольная'], y = [positive_g_2['cost'].mean(),\n",
    "                                                  negative_g_2['cost'].mean()],\n",
    "                                                  palette=['green','#005AAB'])\n",
    "ax.bar_label(ax.containers[0], fontsize=12, label_type='center', color='white', fmt='%.0f')\n",
    "ax.set_title('Cредний чек')\n",
    "ax.set(xlabel='Группа', ylabel='Средний чек', ylim=(9000, 11000));\n"
   ]
  },
  {
   "cell_type": "markdown",
   "id": "39510385-91b1-4f2c-ad12-39f7856295ca",
   "metadata": {
    "tags": []
   },
   "source": [
    "### 3 Гипотеза"
   ]
  },
  {
   "cell_type": "markdown",
   "id": "7e82f2d4-2099-426c-b6b2-19d3183f8d32",
   "metadata": {},
   "source": [
    "1) Нулевая гипотеза: **Количество купленных товаров** у клиента в тестовой и контрольной группе **не имеет** статистически значимой разницы.\n",
    "2) Альтернативная гипотеза: **Количество купленных товаров** у клиента в тестовой и контрольной группе **имеет** статистически значимую разницы."
   ]
  },
  {
   "cell_type": "code",
   "execution_count": 127,
   "id": "419196c6-0a9b-4861-9333-ca58c35742fb",
   "metadata": {
    "tags": []
   },
   "outputs": [],
   "source": [
    "# Количество купленых товаров\n",
    "df_hyp_3 = df_data.groupby('id', as_index=False).agg({'cost':'count'})"
   ]
  },
  {
   "cell_type": "code",
   "execution_count": 128,
   "id": "0fafee66-363e-400c-8157-043ea8e8a978",
   "metadata": {
    "tags": []
   },
   "outputs": [],
   "source": [
    "# Контррольная группа\n",
    "negative_g_3 = df_hyp_3.loc[df_hyp_3['id'].isin(negative), :]"
   ]
  },
  {
   "cell_type": "code",
   "execution_count": 132,
   "id": "a36798fd-45ac-40cc-b2b2-bf87d27dab06",
   "metadata": {
    "tags": []
   },
   "outputs": [],
   "source": [
    "# Тестовая группа\n",
    "positive_g_3 = df_hyp_3.loc[df_hyp_3['id'].isin(positive), :]"
   ]
  },
  {
   "cell_type": "code",
   "execution_count": 134,
   "id": "7cbc8dd8-3859-4347-b9d9-f79fe5042b20",
   "metadata": {
    "tags": []
   },
   "outputs": [
    {
     "name": "stdout",
     "output_type": "stream",
     "text": [
      "ShapiroResult(statistic=0.7064881920814514, pvalue=0.0)\n",
      "ShapiroResult(statistic=0.5769106149673462, pvalue=0.0)\n"
     ]
    }
   ],
   "source": [
    "# Проверяем распределение групп\n",
    "print(stats.shapiro(positive_g_3['cost']))\n",
    "print(stats.shapiro(negative_g_3['cost']))"
   ]
  },
  {
   "cell_type": "code",
   "execution_count": 135,
   "id": "7560e726-0669-451d-99d3-54759b537cec",
   "metadata": {
    "tags": []
   },
   "outputs": [
    {
     "name": "stdout",
     "output_type": "stream",
     "text": [
      "MannwhitneyuResult(statistic=14333830.0, pvalue=2.3754740763929797e-86)\n"
     ]
    }
   ],
   "source": [
    "# Распределения независимы\n",
    "# Тест шапиро больше показал P-value больше порога значимости в 5% делаем вывод что распределение не нармальное\n",
    "man = stats.mannwhitneyu(positive_g_3['cost'], negative_g_3['cost'])\n",
    "print(man)"
   ]
  },
  {
   "cell_type": "markdown",
   "id": "be68672c-17ee-41ba-ac7e-d457dbdfa6bb",
   "metadata": {
    "tags": []
   },
   "source": [
    "Тест показал **P-value меньше 5%**, значит можно сделать вывод что есть статистическая разница между группами. И мы принимаем **альтернативную гипотезу**"
   ]
  },
  {
   "cell_type": "code",
   "execution_count": 139,
   "id": "93c0aa4c-d897-46a0-985e-1679c0d8ebf0",
   "metadata": {
    "tags": []
   },
   "outputs": [],
   "source": [
    "test_3= np.std(positive_g_3['cost']) / np.sqrt(len(positive_g_3['cost']))\n",
    "control_3 = np.std(negative_g_3['cost']) / np.sqrt(len(negative_g_3['cost']))"
   ]
  },
  {
   "cell_type": "code",
   "execution_count": 156,
   "id": "deb20d12-6e92-4d21-bea2-b80945deaf9a",
   "metadata": {
    "tags": []
   },
   "outputs": [
    {
     "data": {
      "text/plain": [
       "5.2353933769247"
      ]
     },
     "execution_count": 156,
     "metadata": {},
     "output_type": "execute_result"
    }
   ],
   "source": [
    "positive_g_3['cost'].mean()"
   ]
  },
  {
   "cell_type": "code",
   "execution_count": 160,
   "id": "334ce632-83a9-4e65-b625-b86eb5b2086e",
   "metadata": {
    "tags": []
   },
   "outputs": [
    {
     "data": {
      "text/plain": [
       "4.019711440764072"
      ]
     },
     "execution_count": 160,
     "metadata": {},
     "output_type": "execute_result"
    }
   ],
   "source": [
    "negative_g_3['cost'].mean()"
   ]
  },
  {
   "cell_type": "code",
   "execution_count": 140,
   "id": "69ff7610-c3a2-41c2-b658-a787ccca9dea",
   "metadata": {
    "tags": []
   },
   "outputs": [
    {
     "name": "stderr",
     "output_type": "stream",
     "text": [
      "C:\\Users\\1\\AppData\\Local\\Temp\\ipykernel_25116\\2890812275.py:2: FutureWarning: \n",
      "\n",
      "Passing `palette` without assigning `hue` is deprecated and will be removed in v0.14.0. Assign the `x` variable to `hue` and set `legend=False` for the same effect.\n",
      "\n",
      "  sns.barplot(x = ['тестовая', 'контрольная'], y = [positive_g_3['cost'].mean(),\n"
     ]
    },
    {
     "data": {
      "image/png": "[encoded data removed]",
      "text/plain": [
       "<Figure size 640x480 with 1 Axes>"
      ]
     },
     "metadata": {},
     "output_type": "display_data"
    }
   ],
   "source": [
    "fig,ax = plt.subplots()\n",
    "sns.barplot(x = ['тестовая', 'контрольная'], y = [positive_g_3['cost'].mean(),\n",
    "                                                  negative_g_3['cost'].mean()],\n",
    "                                                  palette=['Green','#005AAB'])\n",
    "ax.bar_label(ax.containers[0], fontsize=12, label_type='center', color='white', fmt='%.2f')\n",
    "ax.set_title('Cреднее количество купленных товаров')\n",
    "ax.set(xlabel='Группа', ylabel='Кол-во', ylim=(3.5, 5.5));\n",
    "\n"
   ]
  },
  {
   "cell_type": "markdown",
   "id": "f155e567-7e73-43f3-ab55-742d42c31b88",
   "metadata": {},
   "source": [
    "### Вывод"
   ]
  },
  {
   "cell_type": "markdown",
   "id": "091c4325-edec-4e69-864a-4708309f4602",
   "metadata": {},
   "source": [
    "* По результатам А/В тестирования была выявлена значимая разница в 3 показателях: **Количество купленных товаров**; **Средний чек**; **Средняя выручка**. \n",
    "* Все показатели в тестовых группах значительно выше чем в контрольных группах: Количество купленных товаров - **31%**; Средний чек - **6%**; Средняя выручка - **25%**\n",
    "\n",
    "Из этих данных можно сделать вывод что рекламная компания проходит успешно. рекомендация продолжать маркетинговую компанию"
   ]
  },
  {
   "cell_type": "markdown",
   "id": "e461a375-ef7c-49c9-8898-449df414d8f6",
   "metadata": {
    "tags": []
   },
   "source": [
    "## Кластеризация"
   ]
  },
  {
   "cell_type": "markdown",
   "id": "aca91140-5c45-4f94-9d6e-13652b3567c1",
   "metadata": {},
   "source": [
    "#### Создание DF для проверки"
   ]
  },
  {
   "cell_type": "code",
   "execution_count": 56,
   "id": "70e1ec36-52d4-4f8c-9886-2b089faad1c6",
   "metadata": {
    "tags": []
   },
   "outputs": [],
   "source": [
    "df_shop = df_shop[(df_shop['dt'] >= 5) & (df_shop['dt'] < 17)]"
   ]
  },
  {
   "cell_type": "code",
   "execution_count": null,
   "id": "2d887383-3abc-4cd3-8a10-93610a7e7008",
   "metadata": {},
   "outputs": [],
   "source": [
    "purchases_summary = df_shop.groupby('id').agg({\n",
    "    'product': 'count',\n",
    "    'cost': 'sum',\n",
    "    'base_sale': 'sum'\n",
    "}).reset_index()"
   ]
  },
  {
   "cell_type": "code",
   "execution_count": 62,
   "id": "9c57d8a9-dc30-4d0d-abbb-43638ba782d4",
   "metadata": {
    "tags": []
   },
   "outputs": [],
   "source": [
    "purchases_summary.columns = ['id', 'product_count', 'total_cost', 'total_base_sale']"
   ]
  },
  {
   "cell_type": "code",
   "execution_count": 68,
   "id": "125d37be-7274-47db-abc4-3e90d481a90a",
   "metadata": {
    "tags": []
   },
   "outputs": [],
   "source": [
    "merged_data = pd.merge(left=df_personal_, right=purchases_summary, on='id', how='inner')"
   ]
  },
  {
   "cell_type": "code",
   "execution_count": 70,
   "id": "ea13036b-76a8-4d4c-93e6-9c0dccdfb459",
   "metadata": {
    "tags": []
   },
   "outputs": [],
   "source": [
    "merged_data['income_per_customer'] = merged_data['total_cost'] / merged_data['product_count']\n",
    "merged_data['total_discount'] = merged_data['total_base_sale'] + merged_data['personal_coef']\n",
    "merged_data['base_sale_ratio'] = merged_data['total_base_sale'] / merged_data['total_cost']"
   ]
  },
  {
   "cell_type": "code",
   "execution_count": 76,
   "id": "24c98c9e-6abd-4239-bed0-b34f7d1a2283",
   "metadata": {
    "tags": []
   },
   "outputs": [],
   "source": [
    "df_cluster = merged_data.drop(columns=['id','country'], axis=1)"
   ]
  },
  {
   "cell_type": "code",
   "execution_count": 80,
   "id": "99c28931-484e-4e1a-9487-8dd1f5d3d3f2",
   "metadata": {
    "tags": []
   },
   "outputs": [
    {
     "data": {
      "text/plain": [
       "Index(['personal_coef', 'age', 'gender', 'education', 'city', 'product_count',\n",
       "       'total_cost', 'total_base_sale', 'income_per_customer',\n",
       "       'total_discount', 'base_sale_ratio'],\n",
       "      dtype='object')"
      ]
     },
     "execution_count": 80,
     "metadata": {},
     "output_type": "execute_result"
    }
   ],
   "source": [
    "df_cluster.columns"
   ]
  },
  {
   "cell_type": "code",
   "execution_count": 82,
   "id": "279066a9-f717-4e7b-bac7-f04974e32502",
   "metadata": {
    "tags": []
   },
   "outputs": [],
   "source": [
    "# стандартизации значений \n",
    "num_columns = ['personal_coef', 'age', 'gender', 'education', 'city', 'product_count',\n",
    "       'total_cost', 'total_base_sale', 'income_per_customer',\n",
    "       'total_discount', 'base_sale_ratio']\n",
    "scaler = StandardScaler()\n",
    "df_cluster[num_columns] = scaler.fit_transform(df_cluster[num_columns])"
   ]
  },
  {
   "cell_type": "markdown",
   "id": "1c700a17-3035-4394-b8a8-4a826ef7d9e6",
   "metadata": {
    "tags": []
   },
   "source": [
    "#### Визуализация "
   ]
  },
  {
   "cell_type": "code",
   "execution_count": 68,
   "id": "fffe1a53-59e9-49e5-b467-c6b4e50ee356",
   "metadata": {
    "tags": []
   },
   "outputs": [
    {
     "name": "stderr",
     "output_type": "stream",
     "text": [
      "C:\\Users\\1\\anaconda3\\Lib\\site-packages\\sklearn\\cluster\\_kmeans.py:870: FutureWarning: The default value of `n_init` will change from 10 to 'auto' in 1.4. Set the value of `n_init` explicitly to suppress the warning\n",
      "  warnings.warn(\n",
      "C:\\Users\\1\\anaconda3\\Lib\\site-packages\\sklearn\\cluster\\_kmeans.py:870: FutureWarning: The default value of `n_init` will change from 10 to 'auto' in 1.4. Set the value of `n_init` explicitly to suppress the warning\n",
      "  warnings.warn(\n",
      "C:\\Users\\1\\anaconda3\\Lib\\site-packages\\sklearn\\cluster\\_kmeans.py:870: FutureWarning: The default value of `n_init` will change from 10 to 'auto' in 1.4. Set the value of `n_init` explicitly to suppress the warning\n",
      "  warnings.warn(\n",
      "C:\\Users\\1\\anaconda3\\Lib\\site-packages\\sklearn\\cluster\\_kmeans.py:870: FutureWarning: The default value of `n_init` will change from 10 to 'auto' in 1.4. Set the value of `n_init` explicitly to suppress the warning\n",
      "  warnings.warn(\n",
      "C:\\Users\\1\\anaconda3\\Lib\\site-packages\\sklearn\\cluster\\_kmeans.py:870: FutureWarning: The default value of `n_init` will change from 10 to 'auto' in 1.4. Set the value of `n_init` explicitly to suppress the warning\n",
      "  warnings.warn(\n",
      "C:\\Users\\1\\anaconda3\\Lib\\site-packages\\sklearn\\cluster\\_kmeans.py:870: FutureWarning: The default value of `n_init` will change from 10 to 'auto' in 1.4. Set the value of `n_init` explicitly to suppress the warning\n",
      "  warnings.warn(\n",
      "C:\\Users\\1\\anaconda3\\Lib\\site-packages\\sklearn\\cluster\\_kmeans.py:870: FutureWarning: The default value of `n_init` will change from 10 to 'auto' in 1.4. Set the value of `n_init` explicitly to suppress the warning\n",
      "  warnings.warn(\n",
      "C:\\Users\\1\\anaconda3\\Lib\\site-packages\\sklearn\\cluster\\_kmeans.py:870: FutureWarning: The default value of `n_init` will change from 10 to 'auto' in 1.4. Set the value of `n_init` explicitly to suppress the warning\n",
      "  warnings.warn(\n",
      "C:\\Users\\1\\anaconda3\\Lib\\site-packages\\sklearn\\cluster\\_kmeans.py:870: FutureWarning: The default value of `n_init` will change from 10 to 'auto' in 1.4. Set the value of `n_init` explicitly to suppress the warning\n",
      "  warnings.warn(\n",
      "C:\\Users\\1\\anaconda3\\Lib\\site-packages\\sklearn\\cluster\\_kmeans.py:870: FutureWarning: The default value of `n_init` will change from 10 to 'auto' in 1.4. Set the value of `n_init` explicitly to suppress the warning\n",
      "  warnings.warn(\n",
      "C:\\Users\\1\\anaconda3\\Lib\\site-packages\\sklearn\\cluster\\_kmeans.py:870: FutureWarning: The default value of `n_init` will change from 10 to 'auto' in 1.4. Set the value of `n_init` explicitly to suppress the warning\n",
      "  warnings.warn(\n",
      "C:\\Users\\1\\anaconda3\\Lib\\site-packages\\sklearn\\cluster\\_kmeans.py:870: FutureWarning: The default value of `n_init` will change from 10 to 'auto' in 1.4. Set the value of `n_init` explicitly to suppress the warning\n",
      "  warnings.warn(\n",
      "C:\\Users\\1\\anaconda3\\Lib\\site-packages\\sklearn\\cluster\\_kmeans.py:870: FutureWarning: The default value of `n_init` will change from 10 to 'auto' in 1.4. Set the value of `n_init` explicitly to suppress the warning\n",
      "  warnings.warn(\n"
     ]
    },
    {
     "data": {
      "image/png": "[encoded data removed]",
      "text/plain": [
       "<Figure size 640x480 with 1 Axes>"
      ]
     },
     "metadata": {},
     "output_type": "display_data"
    }
   ],
   "source": [
    "inertia = []\n",
    "silhouette = []\n",
    "N = 15\n",
    "for k in range(2, N):\n",
    "    kmeans = KMeans(n_clusters=k, random_state=1).fit(df_cluster)\n",
    "    preds = kmeans.predict(df_cluster)\n",
    "    inertia.append(np.sqrt(kmeans.inertia_))\n",
    "    silhouette.append(silhouette_score(df_cluster, preds))\n",
    "plt.plot(range(2, N), silhouette, marker='s');\n",
    "plt.xlabel('$k$')\n",
    "plt.grid()\n",
    "plt.ylabel('$J(C_k)$');\n"
   ]
  },
  {
   "cell_type": "code",
   "execution_count": 84,
   "id": "d945e111-09e1-4c07-9403-603ae501a830",
   "metadata": {
    "tags": []
   },
   "outputs": [
    {
     "data": {
      "text/plain": [
       "array([3, 1, 2, ..., 1, 3, 1], dtype=uint16)"
      ]
     },
     "execution_count": 84,
     "metadata": {},
     "output_type": "execute_result"
    }
   ],
   "source": [
    "kproto = KPrototypes(n_clusters=4, init='Cao', n_jobs=-1)\n",
    "kproto.fit_predict(df_cluster, categorical=[0,2,3,4,5,6])"
   ]
  },
  {
   "cell_type": "code",
   "execution_count": 85,
   "id": "7febdc09-22eb-4b8f-89d1-35eaba97f622",
   "metadata": {
    "tags": []
   },
   "outputs": [],
   "source": [
    "# признаки преобразуем для визуализации\n",
    "tsne = TSNE(n_components=2, perplexity=50, random_state=42)\n",
    "df_emb = tsne.fit_transform(df_cluster[num_columns])\n",
    "data = pd.DataFrame(df_emb)"
   ]
  },
  {
   "cell_type": "code",
   "execution_count": 86,
   "id": "4860f759-f1cc-4a4b-aef0-778ed134bec5",
   "metadata": {
    "tags": []
   },
   "outputs": [
    {
     "data": {
      "image/png": "[encoded data removed]",
      "text/plain": [
       "<Figure size 640x480 with 1 Axes>"
      ]
     },
     "metadata": {},
     "output_type": "display_data"
    }
   ],
   "source": [
    "pallete = sns.color_palette(\"light:#005AAB\", as_cmap=True)\n",
    "sns.scatterplot(x=data[0], y=data[1], hue=kproto.labels_, palette=pallete);"
   ]
  },
  {
   "cell_type": "markdown",
   "id": "ad1a1682-76c0-4896-9182-e288a39cc6cf",
   "metadata": {
    "tags": []
   },
   "source": [
    "#### Проверка кластеров"
   ]
  },
  {
   "cell_type": "code",
   "execution_count": 90,
   "id": "12819322-5bad-4049-982e-2e72ee802482",
   "metadata": {
    "tags": []
   },
   "outputs": [],
   "source": [
    "df_cluster[num_columns] = scaler.inverse_transform(df_cluster[num_columns])\n",
    "num_columns.extend(['education','gender'])\n",
    "mode_cols = set(df_cluster.columns) - set(num_columns)\n",
    "d1 = dict.fromkeys(num_columns, 'mean')\n",
    "d2 = dict.fromkeys(mode_cols, pd.Series.mode)\n"
   ]
  },
  {
   "cell_type": "code",
   "execution_count": 104,
   "id": "d350d44d-23f9-4885-b194-31b00cbfeb0f",
   "metadata": {
    "tags": []
   },
   "outputs": [
    {
     "name": "stderr",
     "output_type": "stream",
     "text": [
      "C:\\Users\\1\\AppData\\Local\\Temp\\ipykernel_7256\\796645540.py:2: FutureWarning: A grouping was used that is not in the columns of the DataFrame and so was excluded from the result. This grouping will be included in a future version of pandas. Add the grouping as a column of the DataFrame to silence this warning.\n",
      "  df_g1 = df_cluster.groupby(kproto.labels_, as_index=False).agg(d)\n"
     ]
    },
    {
     "data": {
      "text/html": [
       "<div>\n",
       "<style scoped>\n",
       "    .dataframe tbody tr th:only-of-type {\n",
       "        vertical-align: middle;\n",
       "    }\n",
       "\n",
       "    .dataframe tbody tr th {\n",
       "        vertical-align: top;\n",
       "    }\n",
       "\n",
       "    .dataframe thead th {\n",
       "        text-align: right;\n",
       "    }\n",
       "</style>\n",
       "<table border=\"1\" class=\"dataframe\">\n",
       "  <thead>\n",
       "    <tr style=\"text-align: right;\">\n",
       "      <th></th>\n",
       "      <th>cluster 1</th>\n",
       "      <th>cluster 2</th>\n",
       "      <th>cluster 3</th>\n",
       "      <th>cluster 4</th>\n",
       "    </tr>\n",
       "  </thead>\n",
       "  <tbody>\n",
       "    <tr>\n",
       "      <th>personal_coef</th>\n",
       "      <td>0.47</td>\n",
       "      <td>0.46</td>\n",
       "      <td>0.49</td>\n",
       "      <td>0.43</td>\n",
       "    </tr>\n",
       "    <tr>\n",
       "      <th>age</th>\n",
       "      <td>39.65</td>\n",
       "      <td>43.45</td>\n",
       "      <td>40.64</td>\n",
       "      <td>22.10</td>\n",
       "    </tr>\n",
       "    <tr>\n",
       "      <th>gender</th>\n",
       "      <td>0.51</td>\n",
       "      <td>0.70</td>\n",
       "      <td>0.36</td>\n",
       "      <td>0.74</td>\n",
       "    </tr>\n",
       "    <tr>\n",
       "      <th>education</th>\n",
       "      <td>0.16</td>\n",
       "      <td>0.04</td>\n",
       "      <td>0.09</td>\n",
       "      <td>0.79</td>\n",
       "    </tr>\n",
       "    <tr>\n",
       "      <th>city</th>\n",
       "      <td>1126.30</td>\n",
       "      <td>1139.21</td>\n",
       "      <td>1136.69</td>\n",
       "      <td>1137.67</td>\n",
       "    </tr>\n",
       "    <tr>\n",
       "      <th>product_count</th>\n",
       "      <td>47.42</td>\n",
       "      <td>5.51</td>\n",
       "      <td>10.12</td>\n",
       "      <td>5.88</td>\n",
       "    </tr>\n",
       "    <tr>\n",
       "      <th>total_cost</th>\n",
       "      <td>215825.89</td>\n",
       "      <td>38165.03</td>\n",
       "      <td>35107.03</td>\n",
       "      <td>36310.56</td>\n",
       "    </tr>\n",
       "    <tr>\n",
       "      <th>total_base_sale</th>\n",
       "      <td>24.08</td>\n",
       "      <td>1.18</td>\n",
       "      <td>5.13</td>\n",
       "      <td>1.72</td>\n",
       "    </tr>\n",
       "    <tr>\n",
       "      <th>income_per_customer</th>\n",
       "      <td>4064.37</td>\n",
       "      <td>7107.68</td>\n",
       "      <td>2943.53</td>\n",
       "      <td>6237.08</td>\n",
       "    </tr>\n",
       "    <tr>\n",
       "      <th>total_discount</th>\n",
       "      <td>24.55</td>\n",
       "      <td>1.64</td>\n",
       "      <td>5.62</td>\n",
       "      <td>2.15</td>\n",
       "    </tr>\n",
       "    <tr>\n",
       "      <th>base_sale_ratio</th>\n",
       "      <td>0.00</td>\n",
       "      <td>0.00</td>\n",
       "      <td>0.00</td>\n",
       "      <td>0.00</td>\n",
       "    </tr>\n",
       "  </tbody>\n",
       "</table>\n",
       "</div>"
      ],
      "text/plain": [
       "                     cluster 1  cluster 2  cluster 3  cluster 4\n",
       "personal_coef             0.47       0.46       0.49       0.43\n",
       "age                      39.65      43.45      40.64      22.10\n",
       "gender                    0.51       0.70       0.36       0.74\n",
       "education                 0.16       0.04       0.09       0.79\n",
       "city                   1126.30    1139.21    1136.69    1137.67\n",
       "product_count            47.42       5.51      10.12       5.88\n",
       "total_cost           215825.89   38165.03   35107.03   36310.56\n",
       "total_base_sale          24.08       1.18       5.13       1.72\n",
       "income_per_customer    4064.37    7107.68    2943.53    6237.08\n",
       "total_discount           24.55       1.64       5.62       2.15\n",
       "base_sale_ratio           0.00       0.00       0.00       0.00"
      ]
     },
     "execution_count": 104,
     "metadata": {},
     "output_type": "execute_result"
    }
   ],
   "source": [
    "d = {**d1, **d2}\n",
    "df_g1 = df_cluster.groupby(kproto.labels_, as_index=False).agg(d)\n",
    "df_g1 = df_g1.round(2).T\n",
    "df_g1 = df_g1.rename(columns={0:'cluster 1', 1:'cluster 2', 2:'cluster 3', 3:'cluster 4'})\n",
    "df_g1"
   ]
  },
  {
   "cell_type": "markdown",
   "id": "8838a020-c87e-4a69-8515-240f8c8a06cd",
   "metadata": {},
   "source": [
    "#### Выводы:"
   ]
  },
  {
   "cell_type": "markdown",
   "id": "0e258017-79e8-457c-a8ff-8c527c9d0a36",
   "metadata": {},
   "source": [
    "База клиентов разбилась на 4 кластера:\n",
    "\n",
    "* Кластер № 1 включает в себя: Возрастную группу клиентов средний возраст которых 39 лет, по гендору разделение практически 50/50 % и 16 % из них имеют высшее образование. В группе наблюдается самый большой интерес к уникальным product 47, потратила группа (215 825), одина едица товара в среднем стоила 4064, общаяя скидка была 24.\n",
    "\n",
    "* Кластер № 2 включает в себя: Возрастную группу клиентов средний возраст которых 43 года, по гендору разделение в сторону женского пола 70%. Потратила группа (38165),самая дорогая едица товара из всех групп, в среднем стоила 7107.\n",
    "\n",
    "* Кластер № 3 включает в себя: Возрастную группу клиентов средний возраст которых 41 год, по гендору разделение в сторону мужского пола 36%. Самая сбалансированая группа по моему мнению в плане покупок. В среднем 10 уникальных товаров, потратили (35107), средняя стоимость товаров 2943.\n",
    "\n",
    "* Кластер № 4 включает в себя: Самоя молодая возрастная группа клиентов, средний возраст которых 22 года,по гендору разделение в сторону женского пола 74% и самая образованая 79 % из них имеют высшее образование. В среднем 5 уникальных товаров, потратили (36310), средняя стоимость товаров 6237.\n"
   ]
  },
  {
   "cell_type": "markdown",
   "id": "fe92dcd4-690d-40c7-8750-c3218260ed9b",
   "metadata": {},
   "source": [
    "## Модель предсказания повышения спроса после второй рекламной кампании"
   ]
  },
  {
   "cell_type": "markdown",
   "id": "08c63d70-28e6-48d8-b222-5ec3166fb533",
   "metadata": {},
   "source": [
    "### Подготовка модели"
   ]
  },
  {
   "cell_type": "code",
   "execution_count": 62,
   "id": "6eaf5ea1-d960-462c-8fdf-3b575888eb5e",
   "metadata": {
    "tags": []
   },
   "outputs": [],
   "source": [
    "# Загружаем еще раз данные по рекламной компании \n",
    "with open('data/result_data/ids_first_company_positive.txt') as f:\n",
    "    positive = f.read()\n",
    "elem_list = re.split(';|,| ', positive)\n",
    "positive = []\n",
    "for i in elem_list:\n",
    "    if i.isdigit():\n",
    "        positive.append(int(i))"
   ]
  },
  {
   "cell_type": "code",
   "execution_count": 64,
   "id": "8a69aff8-09fc-41f1-9546-07646111c308",
   "metadata": {
    "tags": []
   },
   "outputs": [
    {
     "name": "stderr",
     "output_type": "stream",
     "text": [
      "C:\\Users\\1\\AppData\\Local\\Temp\\ipykernel_7304\\1472883761.py:5: SettingWithCopyWarning: \n",
      "A value is trying to be set on a copy of a slice from a DataFrame.\n",
      "Try using .loc[row_indexer,col_indexer] = value instead\n",
      "\n",
      "See the caveats in the documentation: https://pandas.pydata.org/pandas-docs/stable/user_guide/indexing.html#returning-a-view-versus-a-copy\n",
      "  first_camp['product'] = first_camp['product'].apply(lambda x: x[0] if type(x) == np.ndarray else x)\n"
     ]
    }
   ],
   "source": [
    "# Покупки клиентов первой компании \n",
    "df_first = df_shop[(df_shop['dt'] >= 5) & (df_shop['dt'] < 17)]\n",
    "product_group = df_first.groupby('id', as_index=False).agg({'product': pd.Series.mode})\n",
    "first_camp = product_group.loc[product_group['id'].isin(positive), :]\n",
    "first_camp['product'] = first_camp['product'].apply(lambda x: x[0] if type(x) == np.ndarray else x)"
   ]
  },
  {
   "cell_type": "code",
   "execution_count": 65,
   "id": "2b11db8d-80da-4c7d-b11e-b7fe10ef66b8",
   "metadata": {
    "tags": []
   },
   "outputs": [],
   "source": [
    "# Покупки клиентов  2 компании\n",
    "df_second = df_shop[(df_shop['dt'] == 15) | (df_shop['dt'] == 45)]\n",
    "second_camp = df_second.groupby('id', as_index=False).agg({'product': pd.Series.mode})\n",
    "second_camp['product'] = second_camp['product'].apply(lambda x: x[0] if type(x) == np.ndarray else x)"
   ]
  },
  {
   "cell_type": "code",
   "execution_count": 66,
   "id": "6de626fb-9637-476d-8114-9e6002342cd3",
   "metadata": {
    "tags": []
   },
   "outputs": [],
   "source": [
    "# Объединяем с базу клиентов и покупки\n",
    "first_df = pd.merge(left =df_personal_,right = df_first, on = 'id' ,how = 'inner')\n",
    "second_df = pd.merge(left =df_personal_,right = df_second, on = 'id' ,how = 'inner')"
   ]
  },
  {
   "cell_type": "code",
   "execution_count": 67,
   "id": "890a0251-67fd-47ee-8270-2a393aa6b7bf",
   "metadata": {
    "tags": []
   },
   "outputs": [],
   "source": [
    "second_df = second_df[second_df.city == 1134]"
   ]
  },
  {
   "cell_type": "code",
   "execution_count": 68,
   "id": "8862f0b3-d67d-492c-8f5a-dda88ccc9a3d",
   "metadata": {
    "tags": []
   },
   "outputs": [],
   "source": [
    "# train \n",
    "train = first_df.merge(second_df)"
   ]
  },
  {
   "cell_type": "code",
   "execution_count": 124,
   "id": "7a453dd9-864c-4706-84e2-c418864d621d",
   "metadata": {
    "collapsed": true,
    "jupyter": {
     "outputs_hidden": true
    },
    "tags": []
   },
   "outputs": [
    {
     "data": {
      "text/html": [
       "<div>\n",
       "<style scoped>\n",
       "    .dataframe tbody tr th:only-of-type {\n",
       "        vertical-align: middle;\n",
       "    }\n",
       "\n",
       "    .dataframe tbody tr th {\n",
       "        vertical-align: top;\n",
       "    }\n",
       "\n",
       "    .dataframe thead th {\n",
       "        text-align: right;\n",
       "    }\n",
       "</style>\n",
       "<table border=\"1\" class=\"dataframe\">\n",
       "  <thead>\n",
       "    <tr style=\"text-align: right;\">\n",
       "      <th></th>\n",
       "      <th>id</th>\n",
       "      <th>personal_coef</th>\n",
       "      <th>age</th>\n",
       "      <th>gender</th>\n",
       "      <th>education</th>\n",
       "      <th>city</th>\n",
       "      <th>country</th>\n",
       "      <th>product</th>\n",
       "      <th>colour</th>\n",
       "      <th>cost</th>\n",
       "      <th>product_sex</th>\n",
       "      <th>base_sale</th>\n",
       "      <th>dt</th>\n",
       "    </tr>\n",
       "  </thead>\n",
       "  <tbody>\n",
       "    <tr>\n",
       "      <th>0</th>\n",
       "      <td>365</td>\n",
       "      <td>0.4304</td>\n",
       "      <td>29.0</td>\n",
       "      <td>1.0</td>\n",
       "      <td>0</td>\n",
       "      <td>1134.0</td>\n",
       "      <td>32.0</td>\n",
       "      <td>рюкзак</td>\n",
       "      <td>черный</td>\n",
       "      <td>38199</td>\n",
       "      <td>2.0</td>\n",
       "      <td>0</td>\n",
       "      <td>15</td>\n",
       "    </tr>\n",
       "    <tr>\n",
       "      <th>1</th>\n",
       "      <td>365</td>\n",
       "      <td>0.4304</td>\n",
       "      <td>29.0</td>\n",
       "      <td>1.0</td>\n",
       "      <td>0</td>\n",
       "      <td>1134.0</td>\n",
       "      <td>32.0</td>\n",
       "      <td>станок</td>\n",
       "      <td>other</td>\n",
       "      <td>21999</td>\n",
       "      <td>2.0</td>\n",
       "      <td>0</td>\n",
       "      <td>15</td>\n",
       "    </tr>\n",
       "    <tr>\n",
       "      <th>2</th>\n",
       "      <td>383</td>\n",
       "      <td>0.4304</td>\n",
       "      <td>45.0</td>\n",
       "      <td>1.0</td>\n",
       "      <td>0</td>\n",
       "      <td>1134.0</td>\n",
       "      <td>32.0</td>\n",
       "      <td>рюкзак</td>\n",
       "      <td>серый/зеленый</td>\n",
       "      <td>1599</td>\n",
       "      <td>2.0</td>\n",
       "      <td>0</td>\n",
       "      <td>15</td>\n",
       "    </tr>\n",
       "    <tr>\n",
       "      <th>3</th>\n",
       "      <td>665</td>\n",
       "      <td>0.5072</td>\n",
       "      <td>65.0</td>\n",
       "      <td>1.0</td>\n",
       "      <td>0</td>\n",
       "      <td>1134.0</td>\n",
       "      <td>32.0</td>\n",
       "      <td>брюки</td>\n",
       "      <td>other</td>\n",
       "      <td>1999</td>\n",
       "      <td>1.0</td>\n",
       "      <td>0</td>\n",
       "      <td>15</td>\n",
       "    </tr>\n",
       "    <tr>\n",
       "      <th>4</th>\n",
       "      <td>1462</td>\n",
       "      <td>0.5584</td>\n",
       "      <td>26.0</td>\n",
       "      <td>1.0</td>\n",
       "      <td>1</td>\n",
       "      <td>1134.0</td>\n",
       "      <td>32.0</td>\n",
       "      <td>мешок</td>\n",
       "      <td>Синий</td>\n",
       "      <td>14599</td>\n",
       "      <td>2.0</td>\n",
       "      <td>0</td>\n",
       "      <td>15</td>\n",
       "    </tr>\n",
       "    <tr>\n",
       "      <th>...</th>\n",
       "      <td>...</td>\n",
       "      <td>...</td>\n",
       "      <td>...</td>\n",
       "      <td>...</td>\n",
       "      <td>...</td>\n",
       "      <td>...</td>\n",
       "      <td>...</td>\n",
       "      <td>...</td>\n",
       "      <td>...</td>\n",
       "      <td>...</td>\n",
       "      <td>...</td>\n",
       "      <td>...</td>\n",
       "      <td>...</td>\n",
       "    </tr>\n",
       "    <tr>\n",
       "      <th>7164</th>\n",
       "      <td>177889</td>\n",
       "      <td>0.4304</td>\n",
       "      <td>44.0</td>\n",
       "      <td>1.0</td>\n",
       "      <td>0</td>\n",
       "      <td>1134.0</td>\n",
       "      <td>32.0</td>\n",
       "      <td>кроссовки</td>\n",
       "      <td>other</td>\n",
       "      <td>9299</td>\n",
       "      <td>2.0</td>\n",
       "      <td>0</td>\n",
       "      <td>15</td>\n",
       "    </tr>\n",
       "    <tr>\n",
       "      <th>7165</th>\n",
       "      <td>177889</td>\n",
       "      <td>0.4304</td>\n",
       "      <td>44.0</td>\n",
       "      <td>1.0</td>\n",
       "      <td>0</td>\n",
       "      <td>1134.0</td>\n",
       "      <td>32.0</td>\n",
       "      <td>полуботинки</td>\n",
       "      <td>other</td>\n",
       "      <td>7599</td>\n",
       "      <td>1.0</td>\n",
       "      <td>0</td>\n",
       "      <td>15</td>\n",
       "    </tr>\n",
       "    <tr>\n",
       "      <th>7166</th>\n",
       "      <td>177966</td>\n",
       "      <td>0.2672</td>\n",
       "      <td>17.0</td>\n",
       "      <td>1.0</td>\n",
       "      <td>1</td>\n",
       "      <td>1134.0</td>\n",
       "      <td>32.0</td>\n",
       "      <td>перчатки</td>\n",
       "      <td>желтый/черный</td>\n",
       "      <td>2599</td>\n",
       "      <td>2.0</td>\n",
       "      <td>0</td>\n",
       "      <td>15</td>\n",
       "    </tr>\n",
       "    <tr>\n",
       "      <th>7167</th>\n",
       "      <td>177982</td>\n",
       "      <td>0.4304</td>\n",
       "      <td>38.0</td>\n",
       "      <td>1.0</td>\n",
       "      <td>0</td>\n",
       "      <td>1134.0</td>\n",
       "      <td>32.0</td>\n",
       "      <td>бейсболка</td>\n",
       "      <td>черный</td>\n",
       "      <td>1999</td>\n",
       "      <td>2.0</td>\n",
       "      <td>0</td>\n",
       "      <td>15</td>\n",
       "    </tr>\n",
       "    <tr>\n",
       "      <th>7168</th>\n",
       "      <td>177982</td>\n",
       "      <td>0.4304</td>\n",
       "      <td>38.0</td>\n",
       "      <td>1.0</td>\n",
       "      <td>0</td>\n",
       "      <td>1134.0</td>\n",
       "      <td>32.0</td>\n",
       "      <td>брюки</td>\n",
       "      <td>черный</td>\n",
       "      <td>3999</td>\n",
       "      <td>1.0</td>\n",
       "      <td>0</td>\n",
       "      <td>15</td>\n",
       "    </tr>\n",
       "  </tbody>\n",
       "</table>\n",
       "<p>7169 rows × 13 columns</p>\n",
       "</div>"
      ],
      "text/plain": [
       "          id  personal_coef   age  gender  education    city  country  \\\n",
       "0        365         0.4304  29.0     1.0          0  1134.0     32.0   \n",
       "1        365         0.4304  29.0     1.0          0  1134.0     32.0   \n",
       "2        383         0.4304  45.0     1.0          0  1134.0     32.0   \n",
       "3        665         0.5072  65.0     1.0          0  1134.0     32.0   \n",
       "4       1462         0.5584  26.0     1.0          1  1134.0     32.0   \n",
       "...      ...            ...   ...     ...        ...     ...      ...   \n",
       "7164  177889         0.4304  44.0     1.0          0  1134.0     32.0   \n",
       "7165  177889         0.4304  44.0     1.0          0  1134.0     32.0   \n",
       "7166  177966         0.2672  17.0     1.0          1  1134.0     32.0   \n",
       "7167  177982         0.4304  38.0     1.0          0  1134.0     32.0   \n",
       "7168  177982         0.4304  38.0     1.0          0  1134.0     32.0   \n",
       "\n",
       "          product         colour   cost  product_sex  base_sale  dt  \n",
       "0          рюкзак         черный  38199          2.0          0  15  \n",
       "1          станок          other  21999          2.0          0  15  \n",
       "2          рюкзак  серый/зеленый   1599          2.0          0  15  \n",
       "3           брюки          other   1999          1.0          0  15  \n",
       "4           мешок          Синий  14599          2.0          0  15  \n",
       "...           ...            ...    ...          ...        ...  ..  \n",
       "7164    кроссовки          other   9299          2.0          0  15  \n",
       "7165  полуботинки          other   7599          1.0          0  15  \n",
       "7166     перчатки  желтый/черный   2599          2.0          0  15  \n",
       "7167    бейсболка         черный   1999          2.0          0  15  \n",
       "7168        брюки         черный   3999          1.0          0  15  \n",
       "\n",
       "[7169 rows x 13 columns]"
      ]
     },
     "execution_count": 124,
     "metadata": {},
     "output_type": "execute_result"
    }
   ],
   "source": [
    "# Проверка на дубли\n",
    "train.drop_duplicates()"
   ]
  },
  {
   "cell_type": "code",
   "execution_count": 69,
   "id": "72729a98-4417-4d41-ac8b-8f0f7f3f1560",
   "metadata": {
    "tags": []
   },
   "outputs": [],
   "source": [
    "# Упрощаем название товаров\n",
    "train['product'] = train['product'].apply(lambda x: x.split(' ')[0])"
   ]
  },
  {
   "cell_type": "code",
   "execution_count": 138,
   "id": "cb9e901d-ea6a-4fb0-b1f2-8ad1fc28d681",
   "metadata": {},
   "outputs": [],
   "source": [
    "test = df_all[(df_all.city == 1188) & (df_all.country == 32)]"
   ]
  },
  {
   "cell_type": "code",
   "execution_count": 156,
   "id": "25c8170c-9893-4382-a1cc-296268c6f9b4",
   "metadata": {
    "tags": []
   },
   "outputs": [],
   "source": [
    "x_train = train.drop(columns=['id', 'product','colour'])\n",
    "y_train = train['product']\n",
    "x_test = test.drop(columns=['id', 'product','colour'])"
   ]
  },
  {
   "cell_type": "code",
   "execution_count": 144,
   "id": "9bcde703-707d-4007-b7c8-84768e455213",
   "metadata": {
    "tags": []
   },
   "outputs": [],
   "source": [
    "skf = StratifiedKFold(n_splits=3, shuffle=True, random_state=42)\n",
    "rfc = RandomForestClassifier()"
   ]
  },
  {
   "cell_type": "code",
   "execution_count": 146,
   "id": "ef255456-a5d7-44b7-bfde-07022c4975ab",
   "metadata": {
    "tags": []
   },
   "outputs": [
    {
     "name": "stderr",
     "output_type": "stream",
     "text": [
      "C:\\Users\\1\\anaconda3\\Lib\\site-packages\\sklearn\\model_selection\\_split.py:700: UserWarning: The least populated class in y has only 1 members, which is less than n_splits=3.\n",
      "  warnings.warn(\n"
     ]
    },
    {
     "name": "stdout",
     "output_type": "stream",
     "text": [
      "Лучший скор:  0.22778728400099713\n",
      "Лучшие параметры:  {'n_estimators': 300, 'min_samples_split': 6, 'min_samples_leaf': 6, 'max_depth': 58, 'class_weight': None}\n"
     ]
    }
   ],
   "source": [
    "# Ищем лучшие параметры для модели \n",
    "params = {'n_estimators' : [300, 500, 700],\n",
    "          'max_depth': np.arange(10, 60, 4),\n",
    "          'min_samples_leaf': np.arange(1, 10, 1),\n",
    "          'min_samples_split': np.arange(2, 20, 2),\n",
    "          'class_weight': ('balanced', None)}\n",
    "rs = RandomizedSearchCV(rfc, params, cv=skf, scoring='f1_micro', n_jobs=-1, error_score='raise') # по F-мере\n",
    "rs.fit(x_train, y_train)\n",
    "print('Лучший скор: ', rs.best_score_)\n",
    "print('Лучшие параметры: ', rs.best_params_)"
   ]
  },
  {
   "cell_type": "code",
   "execution_count": 152,
   "id": "9a919c7f-44bb-4a08-9e4c-e1aad1ba91ff",
   "metadata": {
    "tags": []
   },
   "outputs": [
    {
     "data": {
      "text/html": [
       "<style>#sk-container-id-4 {color: black;background-color: white;}#sk-container-id-4 pre{padding: 0;}#sk-container-id-4 div.sk-toggleable {background-color: white;}#sk-container-id-4 label.sk-toggleable__label {cursor: pointer;display: block;width: 100%;margin-bottom: 0;padding: 0.3em;box-sizing: border-box;text-align: center;}#sk-container-id-4 label.sk-toggleable__label-arrow:before {content: \"▸\";float: left;margin-right: 0.25em;color: #696969;}#sk-container-id-4 label.sk-toggleable__label-arrow:hover:before {color: black;}#sk-container-id-4 div.sk-estimator:hover label.sk-toggleable__label-arrow:before {color: black;}#sk-container-id-4 div.sk-toggleable__content {max-height: 0;max-width: 0;overflow: hidden;text-align: left;background-color: #f0f8ff;}#sk-container-id-4 div.sk-toggleable__content pre {margin: 0.2em;color: black;border-radius: 0.25em;background-color: #f0f8ff;}#sk-container-id-4 input.sk-toggleable__control:checked~div.sk-toggleable__content {max-height: 200px;max-width: 100%;overflow: auto;}#sk-container-id-4 input.sk-toggleable__control:checked~label.sk-toggleable__label-arrow:before {content: \"▾\";}#sk-container-id-4 div.sk-estimator input.sk-toggleable__control:checked~label.sk-toggleable__label {background-color: #d4ebff;}#sk-container-id-4 div.sk-label input.sk-toggleable__control:checked~label.sk-toggleable__label {background-color: #d4ebff;}#sk-container-id-4 input.sk-hidden--visually {border: 0;clip: rect(1px 1px 1px 1px);clip: rect(1px, 1px, 1px, 1px);height: 1px;margin: -1px;overflow: hidden;padding: 0;position: absolute;width: 1px;}#sk-container-id-4 div.sk-estimator {font-family: monospace;background-color: #f0f8ff;border: 1px dotted black;border-radius: 0.25em;box-sizing: border-box;margin-bottom: 0.5em;}#sk-container-id-4 div.sk-estimator:hover {background-color: #d4ebff;}#sk-container-id-4 div.sk-parallel-item::after {content: \"\";width: 100%;border-bottom: 1px solid gray;flex-grow: 1;}#sk-container-id-4 div.sk-label:hover label.sk-toggleable__label {background-color: #d4ebff;}#sk-container-id-4 div.sk-serial::before {content: \"\";position: absolute;border-left: 1px solid gray;box-sizing: border-box;top: 0;bottom: 0;left: 50%;z-index: 0;}#sk-container-id-4 div.sk-serial {display: flex;flex-direction: column;align-items: center;background-color: white;padding-right: 0.2em;padding-left: 0.2em;position: relative;}#sk-container-id-4 div.sk-item {position: relative;z-index: 1;}#sk-container-id-4 div.sk-parallel {display: flex;align-items: stretch;justify-content: center;background-color: white;position: relative;}#sk-container-id-4 div.sk-item::before, #sk-container-id-4 div.sk-parallel-item::before {content: \"\";position: absolute;border-left: 1px solid gray;box-sizing: border-box;top: 0;bottom: 0;left: 50%;z-index: -1;}#sk-container-id-4 div.sk-parallel-item {display: flex;flex-direction: column;z-index: 1;position: relative;background-color: white;}#sk-container-id-4 div.sk-parallel-item:first-child::after {align-self: flex-end;width: 50%;}#sk-container-id-4 div.sk-parallel-item:last-child::after {align-self: flex-start;width: 50%;}#sk-container-id-4 div.sk-parallel-item:only-child::after {width: 0;}#sk-container-id-4 div.sk-dashed-wrapped {border: 1px dashed gray;margin: 0 0.4em 0.5em 0.4em;box-sizing: border-box;padding-bottom: 0.4em;background-color: white;}#sk-container-id-4 div.sk-label label {font-family: monospace;font-weight: bold;display: inline-block;line-height: 1.2em;}#sk-container-id-4 div.sk-label-container {text-align: center;}#sk-container-id-4 div.sk-container {/* jupyter's `normalize.less` sets `[hidden] { display: none; }` but bootstrap.min.css set `[hidden] { display: none !important; }` so we also need the `!important` here to be able to override the default hidden behavior on the sphinx rendered scikit-learn.org. See: https://github.com/scikit-learn/scikit-learn/issues/21755 */display: inline-block !important;position: relative;}#sk-container-id-4 div.sk-text-repr-fallback {display: none;}</style><div id=\"sk-container-id-4\" class=\"sk-top-container\"><div class=\"sk-text-repr-fallback\"><pre>RandomForestClassifier(max_depth=58, min_samples_leaf=6, min_samples_split=6,\n",
       "                       n_estimators=300)</pre><b>In a Jupyter environment, please rerun this cell to show the HTML representation or trust the notebook. <br />On GitHub, the HTML representation is unable to render, please try loading this page with nbviewer.org.</b></div><div class=\"sk-container\" hidden><div class=\"sk-item\"><div class=\"sk-estimator sk-toggleable\"><input class=\"sk-toggleable__control sk-hidden--visually\" id=\"sk-estimator-id-4\" type=\"checkbox\" checked><label for=\"sk-estimator-id-4\" class=\"sk-toggleable__label sk-toggleable__label-arrow\">RandomForestClassifier</label><div class=\"sk-toggleable__content\"><pre>RandomForestClassifier(max_depth=58, min_samples_leaf=6, min_samples_split=6,\n",
       "                       n_estimators=300)</pre></div></div></div></div></div>"
      ],
      "text/plain": [
       "RandomForestClassifier(max_depth=58, min_samples_leaf=6, min_samples_split=6,\n",
       "                       n_estimators=300)"
      ]
     },
     "execution_count": 152,
     "metadata": {},
     "output_type": "execute_result"
    }
   ],
   "source": [
    "model = RandomForestClassifier(n_estimators=300, min_samples_split=6, min_samples_leaf=6, max_depth=58, class_weight=None)\n",
    "model.fit(x_train, y_train)"
   ]
  },
  {
   "cell_type": "code",
   "execution_count": 160,
   "id": "b9431550-b507-418b-9f51-9a8893269d7f",
   "metadata": {
    "tags": []
   },
   "outputs": [
    {
     "data": {
      "text/plain": [
       "product\n",
       "кроссовки    32224\n",
       "футболка     10050\n",
       "брюки         9361\n",
       "шорты         4304\n",
       "велосипед     3567\n",
       "             ...  \n",
       "образный         1\n",
       "диск             1\n",
       "батончик         1\n",
       "палки            1\n",
       "чайник           1\n",
       "Name: count, Length: 118, dtype: int64"
      ]
     },
     "execution_count": 160,
     "metadata": {},
     "output_type": "execute_result"
    }
   ],
   "source": [
    "# Выведем результат нашей модели \n",
    "model_pred = model.predict(x_test)\n",
    "x_test['product'] = model_pred\n",
    "x_test['product'].value_counts()\n"
   ]
  },
  {
   "cell_type": "code",
   "execution_count": null,
   "id": "cdd76212-267a-47ac-8773-dcb93acca52c",
   "metadata": {},
   "outputs": [],
   "source": []
  }
 ],
 "metadata": {
  "kernelspec": {
   "display_name": "Python 3 (ipykernel)",
   "language": "python",
   "name": "python3"
  },
  "language_info": {
   "codemirror_mode": {
    "name": "ipython",
    "version": 3
   },
   "file_extension": ".py",
   "mimetype": "text/x-python",
   "name": "python",
   "nbconvert_exporter": "python",
   "pygments_lexer": "ipython3",
   "version": "3.11.7"
  }
 },
 "nbformat": 4,
 "nbformat_minor": 5
}
